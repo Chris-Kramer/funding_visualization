{
 "cells": [
  {
   "cell_type": "code",
   "execution_count": 1,
   "metadata": {},
   "outputs": [],
   "source": [
    "# libraries\n",
    "import plotly\n",
    "import warnings\n",
    "import numpy as np\n",
    "import pandas as pd\n",
    "import plotly.express as px\n",
    "import plotly.graph_objects as go\n",
    "from PIL import ImageColor\n",
    "\n",
    "warnings.simplefilter(action='ignore', category=FutureWarning) # ignores warnings from pd.append()"
   ]
  },
  {
   "cell_type": "code",
   "execution_count": 2,
   "metadata": {},
   "outputs": [
    {
     "data": {
      "text/html": [
       "<div>\n",
       "<style scoped>\n",
       "    .dataframe tbody tr th:only-of-type {\n",
       "        vertical-align: middle;\n",
       "    }\n",
       "\n",
       "    .dataframe tbody tr th {\n",
       "        vertical-align: top;\n",
       "    }\n",
       "\n",
       "    .dataframe thead th {\n",
       "        text-align: right;\n",
       "    }\n",
       "</style>\n",
       "<table border=\"1\" class=\"dataframe\">\n",
       "  <thead>\n",
       "    <tr style=\"text-align: right;\">\n",
       "      <th></th>\n",
       "      <th>Titel</th>\n",
       "      <th>Bevilliget beløb</th>\n",
       "      <th>Modtager</th>\n",
       "      <th>Institution</th>\n",
       "      <th>Virkemidler</th>\n",
       "      <th>Område</th>\n",
       "      <th>År</th>\n",
       "      <th>Beskrivelse</th>\n",
       "      <th>Region</th>\n",
       "    </tr>\n",
       "  </thead>\n",
       "  <tbody>\n",
       "    <tr>\n",
       "      <th>4426</th>\n",
       "      <td>Enabling Ultra Deep Hydrodesulphurization by N...</td>\n",
       "      <td>10781874</td>\n",
       "      <td>Ib Chorkendorff</td>\n",
       "      <td>Danmarks Tekniske Universitet</td>\n",
       "      <td>Øvrige forskningsprojekter</td>\n",
       "      <td>Teknologi og Produktion</td>\n",
       "      <td>2013</td>\n",
       "      <td>Alle olieprodukter renses i dag for svovl for ...</td>\n",
       "      <td>Region Hovedstaden</td>\n",
       "    </tr>\n",
       "    <tr>\n",
       "      <th>4427</th>\n",
       "      <td>Acute stroke research</td>\n",
       "      <td>717359</td>\n",
       "      <td>Hanne Krarup Christensen</td>\n",
       "      <td>Bispebjerg Hospital, Neurologisk Afdeling</td>\n",
       "      <td>Delestillinger</td>\n",
       "      <td>Sundhed og Sygdom</td>\n",
       "      <td>2013</td>\n",
       "      <td>Aktuelle ansøgning angår frikøb af overlæge Ha...</td>\n",
       "      <td>Region Hovedstaden</td>\n",
       "    </tr>\n",
       "    <tr>\n",
       "      <th>4428</th>\n",
       "      <td>Atherosclerotic cardiovascular disease in HIV-...</td>\n",
       "      <td>764683</td>\n",
       "      <td>Anne-Mette Lebech</td>\n",
       "      <td>Hvidovre Hospital, Infektionsmedicinsk Afdeling</td>\n",
       "      <td>Delestillinger</td>\n",
       "      <td>Sundhed og Sygdom</td>\n",
       "      <td>2013</td>\n",
       "      <td>Behandling af HIV positive patienter med anti-...</td>\n",
       "      <td>Region Hovedstaden</td>\n",
       "    </tr>\n",
       "    <tr>\n",
       "      <th>4429</th>\n",
       "      <td>Epigenetic modulation of mechanisms involved i...</td>\n",
       "      <td>829294</td>\n",
       "      <td>Ole Schmeltz Søgaard</td>\n",
       "      <td>Aarhus Universitetshospital</td>\n",
       "      <td>Delestillinger</td>\n",
       "      <td>Sundhed og Sygdom</td>\n",
       "      <td>2013</td>\n",
       "      <td>HIV infektion behandles i dag med en kombinati...</td>\n",
       "      <td>Region Midtjylland</td>\n",
       "    </tr>\n",
       "    <tr>\n",
       "      <th>4430</th>\n",
       "      <td>Novel mechanisms of insulin resistance and mit...</td>\n",
       "      <td>665923</td>\n",
       "      <td>Kurt Højlund</td>\n",
       "      <td>Odense Universitetshospital, Endokrinologisk A...</td>\n",
       "      <td>Delestillinger</td>\n",
       "      <td>Sundhed og Sygdom</td>\n",
       "      <td>2013</td>\n",
       "      <td>Insulinresistens (IR) i muskelvæv spiller en v...</td>\n",
       "      <td>Region Syddanmark</td>\n",
       "    </tr>\n",
       "  </tbody>\n",
       "</table>\n",
       "</div>"
      ],
      "text/plain": [
       "                                                  Titel  Bevilliget beløb  \\\n",
       "4426  Enabling Ultra Deep Hydrodesulphurization by N...          10781874   \n",
       "4427                              Acute stroke research            717359   \n",
       "4428  Atherosclerotic cardiovascular disease in HIV-...            764683   \n",
       "4429  Epigenetic modulation of mechanisms involved i...            829294   \n",
       "4430  Novel mechanisms of insulin resistance and mit...            665923   \n",
       "\n",
       "                      Modtager  \\\n",
       "4426           Ib Chorkendorff   \n",
       "4427  Hanne Krarup Christensen   \n",
       "4428         Anne-Mette Lebech   \n",
       "4429      Ole Schmeltz Søgaard   \n",
       "4430              Kurt Højlund   \n",
       "\n",
       "                                            Institution  \\\n",
       "4426                      Danmarks Tekniske Universitet   \n",
       "4427          Bispebjerg Hospital, Neurologisk Afdeling   \n",
       "4428    Hvidovre Hospital, Infektionsmedicinsk Afdeling   \n",
       "4429                        Aarhus Universitetshospital   \n",
       "4430  Odense Universitetshospital, Endokrinologisk A...   \n",
       "\n",
       "                     Virkemidler                   Område    År  \\\n",
       "4426  Øvrige forskningsprojekter  Teknologi og Produktion  2013   \n",
       "4427              Delestillinger        Sundhed og Sygdom  2013   \n",
       "4428              Delestillinger        Sundhed og Sygdom  2013   \n",
       "4429              Delestillinger        Sundhed og Sygdom  2013   \n",
       "4430              Delestillinger        Sundhed og Sygdom  2013   \n",
       "\n",
       "                                            Beskrivelse              Region  \n",
       "4426  Alle olieprodukter renses i dag for svovl for ...  Region Hovedstaden  \n",
       "4427  Aktuelle ansøgning angår frikøb af overlæge Ha...  Region Hovedstaden  \n",
       "4428  Behandling af HIV positive patienter med anti-...  Region Hovedstaden  \n",
       "4429  HIV infektion behandles i dag med en kombinati...  Region Midtjylland  \n",
       "4430  Insulinresistens (IR) i muskelvæv spiller en v...   Region Syddanmark  "
      ]
     },
     "execution_count": 2,
     "metadata": {},
     "output_type": "execute_result"
    }
   ],
   "source": [
    "# import csv\n",
    "df = pd.read_csv('dff.csv')\n",
    "df.tail()"
   ]
  },
  {
   "cell_type": "code",
   "execution_count": 28,
   "metadata": {},
   "outputs": [],
   "source": [
    "# function to generate sankey diagram \n",
    "def generateSankey(df, year, category_columns, is_comparisson: bool = False, comparer_institution=None):\n",
    "\n",
    "    colorpalette = px.colors.qualitative.Dark24 + px.colors.qualitative.Light24 # hex values\n",
    "    opacity = 0.5\n",
    "\n",
    "    # data for sankey\n",
    "    df = df.loc[df['År'] == year] # get data for specified year argument\n",
    "\n",
    "    if is_comparisson == True:\n",
    "        category_columns.append('Institution') # add instituion to category_columns argument\n",
    "        df_sankey = df.loc[:,category_columns + ['Bevilliget beløb']] # if True we include the Institution column to compare\n",
    "        df_sankey = df_sankey[df_sankey['Institution'].isin(comparer_institution)] # after selecting the Institution column, we sort for the two institutions we want to compare\n",
    "    else:\n",
    "        df_sankey = df.loc[:,category_columns + ['Bevilliget beløb']] # if False we do not include the Institution column\n",
    "\n",
    "    # create list of labels, i.e. unique values from each column except the values\n",
    "    labels = []\n",
    "\n",
    "    for col in category_columns:\n",
    "        labels = labels + list(set(df_sankey[col].values)) # adds unique labels in each category to list\n",
    "\n",
    "    # define colors based on number of labels\n",
    "    color_dict_labels = dict(zip(labels, colorpalette)) # zips labels list with colorpalette\n",
    "\n",
    "    # initiate input for for loop\n",
    "    df_link_input = pd.DataFrame({'source' : [], 'target': [], 'count': []})\n",
    "\n",
    "    # create data for go.Sankey function\n",
    "    for i in range(len(category_columns)-1):\n",
    "        if len(category_columns) == 1:\n",
    "            print(\"Number of input categories must be at least 2\")\n",
    "        else:\n",
    "            temporary_df = df_sankey.groupby([category_columns[i], category_columns[i+1]]).agg({'Bevilliget beløb':'sum'}).reset_index() # loop over columns and group by column to the right, i.e. 'År' and 'Virkemidler', and then 'Virkemidler' and 'Område'\n",
    "            temporary_df.columns = ['source','target','count']\n",
    "            df_link_input = df_link_input.append(temporary_df)\n",
    "\n",
    "    # add index for source-target pair\n",
    "    df_link_input['sourceID'] = df_link_input['source'].apply(lambda x: labels.index(x))\n",
    "    df_link_input['targetID'] = df_link_input['target'].apply(lambda x: labels.index(x))\n",
    "\n",
    "    # define colors based on source\n",
    "    colorlist_source = [color_dict_labels[i] for i in df_link_input['source']] # loops over source column, and finds the value in the dictionary, and appends it to a new list. For example, the first 8 sources are 2022, so we append the value paired with our key, i.e. 2022.\n",
    "    colorlist_source_rgba = [\"rgba\" + str(ImageColor.getcolor(color, \"RGB\") + (opacity, )) for color in colorlist_source] # converts hex colors to rgba\n",
    "\n",
    "    # creating the sankey diagram\n",
    "    fig = go.Figure(data=[go.Sankey(\n",
    "        valueformat = \",\",\n",
    "        valuesuffix = \" kr.\",\n",
    "        # define nodes\n",
    "        node = dict(\n",
    "            pad = 15,\n",
    "            thickness = 20,\n",
    "            line = dict(color = \"black\", width = 0.5),\n",
    "            label = labels,\n",
    "            color = list(color_dict_labels.values())\n",
    "            ),\n",
    "        link = dict(\n",
    "            source = df_link_input['sourceID'], # indices correspond to labels, e.g. '2022', 'Forskningsprojekt 1', 'Forskningsprojekt 2', ...\n",
    "            target = df_link_input['targetID'],\n",
    "            value = df_link_input['count'],\n",
    "            color = colorlist_source_rgba\n",
    "        ))])\n",
    "\n",
    "    fig.update_layout(title_text=\"Funding of Research Grants in \" + str(year) + \"<br>Source: <a href='https://dff.dk/'>Danmarks Frie Forskningsfond</a>\",\n",
    "                        font_size=10)\n",
    "    return fig"
   ]
  },
  {
   "cell_type": "code",
   "execution_count": 29,
   "metadata": {},
   "outputs": [
    {
     "data": {
      "application/vnd.plotly.v1+json": {
       "config": {
        "plotlyServerURL": "https://plot.ly"
       },
       "data": [
        {
         "link": {
          "color": [
           "rgba(46, 145, 229, 0.5)",
           "rgba(46, 145, 229, 0.5)",
           "rgba(46, 145, 229, 0.5)",
           "rgba(46, 145, 229, 0.5)",
           "rgba(46, 145, 229, 0.5)",
           "rgba(46, 145, 229, 0.5)",
           "rgba(46, 145, 229, 0.5)",
           "rgba(225, 95, 153, 0.5)",
           "rgba(225, 95, 153, 0.5)",
           "rgba(251, 13, 13, 0.5)",
           "rgba(28, 167, 28, 0.5)",
           "rgba(28, 167, 28, 0.5)",
           "rgba(28, 167, 28, 0.5)",
           "rgba(28, 167, 28, 0.5)",
           "rgba(28, 167, 28, 0.5)",
           "rgba(218, 22, 255, 0.5)",
           "rgba(218, 22, 255, 0.5)",
           "rgba(218, 22, 255, 0.5)",
           "rgba(218, 22, 255, 0.5)",
           "rgba(218, 22, 255, 0.5)",
           "rgba(218, 22, 255, 0.5)",
           "rgba(34, 42, 42, 0.5)",
           "rgba(117, 13, 134, 0.5)",
           "rgba(117, 13, 134, 0.5)",
           "rgba(117, 13, 134, 0.5)",
           "rgba(117, 13, 134, 0.5)",
           "rgba(182, 129, 0, 0.5)",
           "rgba(81, 28, 251, 0.5)",
           "rgba(81, 28, 251, 0.5)",
           "rgba(252, 0, 128, 0.5)",
           "rgba(252, 0, 128, 0.5)",
           "rgba(0, 160, 139, 0.5)",
           "rgba(0, 160, 139, 0.5)",
           "rgba(178, 130, 141, 0.5)",
           "rgba(178, 130, 141, 0.5)",
           "rgba(134, 42, 22, 0.5)",
           "rgba(134, 42, 22, 0.5)",
           "rgba(108, 124, 50, 0.5)",
           "rgba(108, 124, 50, 0.5)",
           "rgba(235, 102, 59, 0.5)",
           "rgba(235, 102, 59, 0.5)",
           "rgba(251, 0, 209, 0.5)",
           "rgba(251, 0, 209, 0.5)",
           "rgba(119, 138, 174, 0.5)",
           "rgba(119, 138, 174, 0.5)"
          ],
          "source": [
           0,
           0,
           0,
           0,
           0,
           0,
           0,
           1,
           1,
           3,
           2,
           2,
           2,
           2,
           2,
           4,
           4,
           4,
           4,
           4,
           4,
           5,
           7,
           7,
           7,
           7,
           6,
           9,
           9,
           12,
           12,
           10,
           10,
           13,
           13,
           16,
           16,
           14,
           14,
           8,
           8,
           11,
           11,
           15,
           15
          ],
          "target": [
           1,
           3,
           2,
           4,
           5,
           7,
           6,
           8,
           11,
           10,
           9,
           12,
           10,
           13,
           16,
           9,
           12,
           10,
           13,
           16,
           15,
           14,
           12,
           10,
           13,
           16,
           15,
           17,
           18,
           17,
           18,
           17,
           18,
           17,
           18,
           17,
           18,
           17,
           18,
           17,
           18,
           17,
           18,
           17,
           18
          ],
          "value": [
           65005946,
           424800,
           178871672,
           137293611,
           30932556,
           11672545,
           92467069,
           50921024,
           14084922,
           424800,
           5733105,
           62015362,
           13481479,
           66192759,
           31448967,
           36454840,
           24527138,
           23507757,
           15811072,
           24674612,
           12318192,
           30932556,
           1875797,
           5599705,
           1936243,
           2260800,
           92467069,
           33152344,
           9035601,
           68435417,
           19982880,
           25774837,
           17238904,
           60956074,
           22984000,
           55508699,
           2875680,
           25461356,
           5471200,
           48042464,
           2878560,
           5757120,
           8327802,
           67850173,
           36935088
          ]
         },
         "node": {
          "color": [
           "#2E91E5",
           "#E15F99",
           "#1CA71C",
           "#FB0D0D",
           "#DA16FF",
           "#222A2A",
           "#B68100",
           "#750D86",
           "#EB663B",
           "#511CFB",
           "#00A08B",
           "#FB00D1",
           "#FC0080",
           "#B2828D",
           "#6C7C32",
           "#778AAE",
           "#862A16",
           "#A777F1",
           "#620042"
          ],
          "label": [
           2022,
           "DFF-Forskningsprojekt 1 (tematisk forskning)",
           "Forskningsprojekt 1",
           "Forskningsophold i udlandet » Forår",
           "Forskningsprojekt 2",
           "Inge Lehmann",
           "Sapere Aude Forskningsleder",
           "International postdoc",
           "Tematisk » Grøn forskning",
           "Kultur og Kommunikation",
           "Samfund og Erhverv",
           "Tematisk » Styrket klinisk og uafhængig forskning",
           "Natur og Univers",
           "Sundhed og Sygdom",
           "Tematisk",
           "Tværrådslig",
           "Teknologi og Produktion",
           "Københavns Universitet",
           "Syddansk Universitet"
          ],
          "line": {
           "color": "black",
           "width": 0.5
          },
          "pad": 15,
          "thickness": 20
         },
         "type": "sankey",
         "valueformat": ",",
         "valuesuffix": " kr."
        }
       ],
       "layout": {
        "font": {
         "size": 10
        },
        "template": {
         "data": {
          "bar": [
           {
            "error_x": {
             "color": "#2a3f5f"
            },
            "error_y": {
             "color": "#2a3f5f"
            },
            "marker": {
             "line": {
              "color": "#E5ECF6",
              "width": 0.5
             },
             "pattern": {
              "fillmode": "overlay",
              "size": 10,
              "solidity": 0.2
             }
            },
            "type": "bar"
           }
          ],
          "barpolar": [
           {
            "marker": {
             "line": {
              "color": "#E5ECF6",
              "width": 0.5
             },
             "pattern": {
              "fillmode": "overlay",
              "size": 10,
              "solidity": 0.2
             }
            },
            "type": "barpolar"
           }
          ],
          "carpet": [
           {
            "aaxis": {
             "endlinecolor": "#2a3f5f",
             "gridcolor": "white",
             "linecolor": "white",
             "minorgridcolor": "white",
             "startlinecolor": "#2a3f5f"
            },
            "baxis": {
             "endlinecolor": "#2a3f5f",
             "gridcolor": "white",
             "linecolor": "white",
             "minorgridcolor": "white",
             "startlinecolor": "#2a3f5f"
            },
            "type": "carpet"
           }
          ],
          "choropleth": [
           {
            "colorbar": {
             "outlinewidth": 0,
             "ticks": ""
            },
            "type": "choropleth"
           }
          ],
          "contour": [
           {
            "colorbar": {
             "outlinewidth": 0,
             "ticks": ""
            },
            "colorscale": [
             [
              0,
              "#0d0887"
             ],
             [
              0.1111111111111111,
              "#46039f"
             ],
             [
              0.2222222222222222,
              "#7201a8"
             ],
             [
              0.3333333333333333,
              "#9c179e"
             ],
             [
              0.4444444444444444,
              "#bd3786"
             ],
             [
              0.5555555555555556,
              "#d8576b"
             ],
             [
              0.6666666666666666,
              "#ed7953"
             ],
             [
              0.7777777777777778,
              "#fb9f3a"
             ],
             [
              0.8888888888888888,
              "#fdca26"
             ],
             [
              1,
              "#f0f921"
             ]
            ],
            "type": "contour"
           }
          ],
          "contourcarpet": [
           {
            "colorbar": {
             "outlinewidth": 0,
             "ticks": ""
            },
            "type": "contourcarpet"
           }
          ],
          "heatmap": [
           {
            "colorbar": {
             "outlinewidth": 0,
             "ticks": ""
            },
            "colorscale": [
             [
              0,
              "#0d0887"
             ],
             [
              0.1111111111111111,
              "#46039f"
             ],
             [
              0.2222222222222222,
              "#7201a8"
             ],
             [
              0.3333333333333333,
              "#9c179e"
             ],
             [
              0.4444444444444444,
              "#bd3786"
             ],
             [
              0.5555555555555556,
              "#d8576b"
             ],
             [
              0.6666666666666666,
              "#ed7953"
             ],
             [
              0.7777777777777778,
              "#fb9f3a"
             ],
             [
              0.8888888888888888,
              "#fdca26"
             ],
             [
              1,
              "#f0f921"
             ]
            ],
            "type": "heatmap"
           }
          ],
          "heatmapgl": [
           {
            "colorbar": {
             "outlinewidth": 0,
             "ticks": ""
            },
            "colorscale": [
             [
              0,
              "#0d0887"
             ],
             [
              0.1111111111111111,
              "#46039f"
             ],
             [
              0.2222222222222222,
              "#7201a8"
             ],
             [
              0.3333333333333333,
              "#9c179e"
             ],
             [
              0.4444444444444444,
              "#bd3786"
             ],
             [
              0.5555555555555556,
              "#d8576b"
             ],
             [
              0.6666666666666666,
              "#ed7953"
             ],
             [
              0.7777777777777778,
              "#fb9f3a"
             ],
             [
              0.8888888888888888,
              "#fdca26"
             ],
             [
              1,
              "#f0f921"
             ]
            ],
            "type": "heatmapgl"
           }
          ],
          "histogram": [
           {
            "marker": {
             "pattern": {
              "fillmode": "overlay",
              "size": 10,
              "solidity": 0.2
             }
            },
            "type": "histogram"
           }
          ],
          "histogram2d": [
           {
            "colorbar": {
             "outlinewidth": 0,
             "ticks": ""
            },
            "colorscale": [
             [
              0,
              "#0d0887"
             ],
             [
              0.1111111111111111,
              "#46039f"
             ],
             [
              0.2222222222222222,
              "#7201a8"
             ],
             [
              0.3333333333333333,
              "#9c179e"
             ],
             [
              0.4444444444444444,
              "#bd3786"
             ],
             [
              0.5555555555555556,
              "#d8576b"
             ],
             [
              0.6666666666666666,
              "#ed7953"
             ],
             [
              0.7777777777777778,
              "#fb9f3a"
             ],
             [
              0.8888888888888888,
              "#fdca26"
             ],
             [
              1,
              "#f0f921"
             ]
            ],
            "type": "histogram2d"
           }
          ],
          "histogram2dcontour": [
           {
            "colorbar": {
             "outlinewidth": 0,
             "ticks": ""
            },
            "colorscale": [
             [
              0,
              "#0d0887"
             ],
             [
              0.1111111111111111,
              "#46039f"
             ],
             [
              0.2222222222222222,
              "#7201a8"
             ],
             [
              0.3333333333333333,
              "#9c179e"
             ],
             [
              0.4444444444444444,
              "#bd3786"
             ],
             [
              0.5555555555555556,
              "#d8576b"
             ],
             [
              0.6666666666666666,
              "#ed7953"
             ],
             [
              0.7777777777777778,
              "#fb9f3a"
             ],
             [
              0.8888888888888888,
              "#fdca26"
             ],
             [
              1,
              "#f0f921"
             ]
            ],
            "type": "histogram2dcontour"
           }
          ],
          "mesh3d": [
           {
            "colorbar": {
             "outlinewidth": 0,
             "ticks": ""
            },
            "type": "mesh3d"
           }
          ],
          "parcoords": [
           {
            "line": {
             "colorbar": {
              "outlinewidth": 0,
              "ticks": ""
             }
            },
            "type": "parcoords"
           }
          ],
          "pie": [
           {
            "automargin": true,
            "type": "pie"
           }
          ],
          "scatter": [
           {
            "fillpattern": {
             "fillmode": "overlay",
             "size": 10,
             "solidity": 0.2
            },
            "type": "scatter"
           }
          ],
          "scatter3d": [
           {
            "line": {
             "colorbar": {
              "outlinewidth": 0,
              "ticks": ""
             }
            },
            "marker": {
             "colorbar": {
              "outlinewidth": 0,
              "ticks": ""
             }
            },
            "type": "scatter3d"
           }
          ],
          "scattercarpet": [
           {
            "marker": {
             "colorbar": {
              "outlinewidth": 0,
              "ticks": ""
             }
            },
            "type": "scattercarpet"
           }
          ],
          "scattergeo": [
           {
            "marker": {
             "colorbar": {
              "outlinewidth": 0,
              "ticks": ""
             }
            },
            "type": "scattergeo"
           }
          ],
          "scattergl": [
           {
            "marker": {
             "colorbar": {
              "outlinewidth": 0,
              "ticks": ""
             }
            },
            "type": "scattergl"
           }
          ],
          "scattermapbox": [
           {
            "marker": {
             "colorbar": {
              "outlinewidth": 0,
              "ticks": ""
             }
            },
            "type": "scattermapbox"
           }
          ],
          "scatterpolar": [
           {
            "marker": {
             "colorbar": {
              "outlinewidth": 0,
              "ticks": ""
             }
            },
            "type": "scatterpolar"
           }
          ],
          "scatterpolargl": [
           {
            "marker": {
             "colorbar": {
              "outlinewidth": 0,
              "ticks": ""
             }
            },
            "type": "scatterpolargl"
           }
          ],
          "scatterternary": [
           {
            "marker": {
             "colorbar": {
              "outlinewidth": 0,
              "ticks": ""
             }
            },
            "type": "scatterternary"
           }
          ],
          "surface": [
           {
            "colorbar": {
             "outlinewidth": 0,
             "ticks": ""
            },
            "colorscale": [
             [
              0,
              "#0d0887"
             ],
             [
              0.1111111111111111,
              "#46039f"
             ],
             [
              0.2222222222222222,
              "#7201a8"
             ],
             [
              0.3333333333333333,
              "#9c179e"
             ],
             [
              0.4444444444444444,
              "#bd3786"
             ],
             [
              0.5555555555555556,
              "#d8576b"
             ],
             [
              0.6666666666666666,
              "#ed7953"
             ],
             [
              0.7777777777777778,
              "#fb9f3a"
             ],
             [
              0.8888888888888888,
              "#fdca26"
             ],
             [
              1,
              "#f0f921"
             ]
            ],
            "type": "surface"
           }
          ],
          "table": [
           {
            "cells": {
             "fill": {
              "color": "#EBF0F8"
             },
             "line": {
              "color": "white"
             }
            },
            "header": {
             "fill": {
              "color": "#C8D4E3"
             },
             "line": {
              "color": "white"
             }
            },
            "type": "table"
           }
          ]
         },
         "layout": {
          "annotationdefaults": {
           "arrowcolor": "#2a3f5f",
           "arrowhead": 0,
           "arrowwidth": 1
          },
          "autotypenumbers": "strict",
          "coloraxis": {
           "colorbar": {
            "outlinewidth": 0,
            "ticks": ""
           }
          },
          "colorscale": {
           "diverging": [
            [
             0,
             "#8e0152"
            ],
            [
             0.1,
             "#c51b7d"
            ],
            [
             0.2,
             "#de77ae"
            ],
            [
             0.3,
             "#f1b6da"
            ],
            [
             0.4,
             "#fde0ef"
            ],
            [
             0.5,
             "#f7f7f7"
            ],
            [
             0.6,
             "#e6f5d0"
            ],
            [
             0.7,
             "#b8e186"
            ],
            [
             0.8,
             "#7fbc41"
            ],
            [
             0.9,
             "#4d9221"
            ],
            [
             1,
             "#276419"
            ]
           ],
           "sequential": [
            [
             0,
             "#0d0887"
            ],
            [
             0.1111111111111111,
             "#46039f"
            ],
            [
             0.2222222222222222,
             "#7201a8"
            ],
            [
             0.3333333333333333,
             "#9c179e"
            ],
            [
             0.4444444444444444,
             "#bd3786"
            ],
            [
             0.5555555555555556,
             "#d8576b"
            ],
            [
             0.6666666666666666,
             "#ed7953"
            ],
            [
             0.7777777777777778,
             "#fb9f3a"
            ],
            [
             0.8888888888888888,
             "#fdca26"
            ],
            [
             1,
             "#f0f921"
            ]
           ],
           "sequentialminus": [
            [
             0,
             "#0d0887"
            ],
            [
             0.1111111111111111,
             "#46039f"
            ],
            [
             0.2222222222222222,
             "#7201a8"
            ],
            [
             0.3333333333333333,
             "#9c179e"
            ],
            [
             0.4444444444444444,
             "#bd3786"
            ],
            [
             0.5555555555555556,
             "#d8576b"
            ],
            [
             0.6666666666666666,
             "#ed7953"
            ],
            [
             0.7777777777777778,
             "#fb9f3a"
            ],
            [
             0.8888888888888888,
             "#fdca26"
            ],
            [
             1,
             "#f0f921"
            ]
           ]
          },
          "colorway": [
           "#636efa",
           "#EF553B",
           "#00cc96",
           "#ab63fa",
           "#FFA15A",
           "#19d3f3",
           "#FF6692",
           "#B6E880",
           "#FF97FF",
           "#FECB52"
          ],
          "font": {
           "color": "#2a3f5f"
          },
          "geo": {
           "bgcolor": "white",
           "lakecolor": "white",
           "landcolor": "#E5ECF6",
           "showlakes": true,
           "showland": true,
           "subunitcolor": "white"
          },
          "hoverlabel": {
           "align": "left"
          },
          "hovermode": "closest",
          "mapbox": {
           "style": "light"
          },
          "paper_bgcolor": "white",
          "plot_bgcolor": "#E5ECF6",
          "polar": {
           "angularaxis": {
            "gridcolor": "white",
            "linecolor": "white",
            "ticks": ""
           },
           "bgcolor": "#E5ECF6",
           "radialaxis": {
            "gridcolor": "white",
            "linecolor": "white",
            "ticks": ""
           }
          },
          "scene": {
           "xaxis": {
            "backgroundcolor": "#E5ECF6",
            "gridcolor": "white",
            "gridwidth": 2,
            "linecolor": "white",
            "showbackground": true,
            "ticks": "",
            "zerolinecolor": "white"
           },
           "yaxis": {
            "backgroundcolor": "#E5ECF6",
            "gridcolor": "white",
            "gridwidth": 2,
            "linecolor": "white",
            "showbackground": true,
            "ticks": "",
            "zerolinecolor": "white"
           },
           "zaxis": {
            "backgroundcolor": "#E5ECF6",
            "gridcolor": "white",
            "gridwidth": 2,
            "linecolor": "white",
            "showbackground": true,
            "ticks": "",
            "zerolinecolor": "white"
           }
          },
          "shapedefaults": {
           "line": {
            "color": "#2a3f5f"
           }
          },
          "ternary": {
           "aaxis": {
            "gridcolor": "white",
            "linecolor": "white",
            "ticks": ""
           },
           "baxis": {
            "gridcolor": "white",
            "linecolor": "white",
            "ticks": ""
           },
           "bgcolor": "#E5ECF6",
           "caxis": {
            "gridcolor": "white",
            "linecolor": "white",
            "ticks": ""
           }
          },
          "title": {
           "x": 0.05
          },
          "xaxis": {
           "automargin": true,
           "gridcolor": "white",
           "linecolor": "white",
           "ticks": "",
           "title": {
            "standoff": 15
           },
           "zerolinecolor": "white",
           "zerolinewidth": 2
          },
          "yaxis": {
           "automargin": true,
           "gridcolor": "white",
           "linecolor": "white",
           "ticks": "",
           "title": {
            "standoff": 15
           },
           "zerolinecolor": "white",
           "zerolinewidth": 2
          }
         }
        },
        "title": {
         "text": "Funding of Research Grants in 2022<br>Source: <a href='https://dff.dk/'>Danmarks Frie Forskningsfond</a>"
        }
       }
      }
     },
     "metadata": {},
     "output_type": "display_data"
    }
   ],
   "source": [
    "# plotting sankey diagram\n",
    "generateSankey(df, year = 2022, category_columns = ['År','Virkemidler', 'Område'], is_comparisson=True, comparer_institution=['Københavns Universitet', 'Syddansk Universitet'])"
   ]
  },
  {
   "cell_type": "code",
   "execution_count": 6,
   "metadata": {},
   "outputs": [],
   "source": [
    "# stacked area chart\n",
    "def generateStacked(y_funding, color_group):\n",
    "    df_stacked = df.groupby(['År', color_group]).agg({y_funding:'sum'}).reset_index()\n",
    "    fig = px.area(df_stacked, x=\"År\", y=y_funding, color=color_group)\n",
    "    \n",
    "    fig.show()"
   ]
  },
  {
   "cell_type": "code",
   "execution_count": 7,
   "metadata": {},
   "outputs": [
    {
     "data": {
      "application/vnd.plotly.v1+json": {
       "config": {
        "plotlyServerURL": "https://plot.ly"
       },
       "data": [
        {
         "fillpattern": {
          "shape": ""
         },
         "hovertemplate": "Område=Kultur og Kommunikation<br>År=%{x}<br>Bevilliget beløb=%{y}<extra></extra>",
         "legendgroup": "Kultur og Kommunikation",
         "line": {
          "color": "#636efa"
         },
         "marker": {
          "symbol": "circle"
         },
         "mode": "lines",
         "name": "Kultur og Kommunikation",
         "orientation": "v",
         "showlegend": true,
         "stackgroup": "1",
         "type": "scatter",
         "x": [
          2013,
          2014,
          2015,
          2016,
          2017,
          2018,
          2019,
          2020,
          2021,
          2022
         ],
         "xaxis": "x",
         "y": [
          116917827,
          127460543,
          118548609,
          116311238,
          116775942,
          122142400,
          133244488,
          128836465,
          126666656,
          109374105
         ],
         "yaxis": "y"
        },
        {
         "fillpattern": {
          "shape": ""
         },
         "hovertemplate": "Område=Natur og Univers<br>År=%{x}<br>Bevilliget beløb=%{y}<extra></extra>",
         "legendgroup": "Natur og Univers",
         "line": {
          "color": "#EF553B"
         },
         "marker": {
          "symbol": "circle"
         },
         "mode": "lines",
         "name": "Natur og Univers",
         "orientation": "v",
         "showlegend": true,
         "stackgroup": "1",
         "type": "scatter",
         "x": [
          2013,
          2014,
          2015,
          2016,
          2017,
          2018,
          2019,
          2020,
          2021,
          2022
         ],
         "xaxis": "x",
         "y": [
          194871568,
          215867193,
          208728110,
          185710314,
          188257304,
          199463755,
          203414715,
          212862695,
          197671509,
          193363465
         ],
         "yaxis": "y"
        },
        {
         "fillpattern": {
          "shape": ""
         },
         "hovertemplate": "Område=Samfund og Erhverv<br>År=%{x}<br>Bevilliget beløb=%{y}<extra></extra>",
         "legendgroup": "Samfund og Erhverv",
         "line": {
          "color": "#00cc96"
         },
         "marker": {
          "symbol": "circle"
         },
         "mode": "lines",
         "name": "Samfund og Erhverv",
         "orientation": "v",
         "showlegend": true,
         "stackgroup": "1",
         "type": "scatter",
         "x": [
          2013,
          2014,
          2015,
          2016,
          2017,
          2018,
          2019,
          2020,
          2021,
          2022
         ],
         "xaxis": "x",
         "y": [
          85771881,
          95372943,
          92627533,
          84293231,
          83213223,
          91610574,
          98939167,
          94347762,
          89726237,
          75223300
         ],
         "yaxis": "y"
        },
        {
         "fillpattern": {
          "shape": ""
         },
         "hovertemplate": "Område=Sundhed og Sygdom<br>År=%{x}<br>Bevilliget beløb=%{y}<extra></extra>",
         "legendgroup": "Sundhed og Sygdom",
         "line": {
          "color": "#ab63fa"
         },
         "marker": {
          "symbol": "circle"
         },
         "mode": "lines",
         "name": "Sundhed og Sygdom",
         "orientation": "v",
         "showlegend": true,
         "stackgroup": "1",
         "type": "scatter",
         "x": [
          2013,
          2014,
          2015,
          2016,
          2017,
          2018,
          2019,
          2020,
          2021,
          2022
         ],
         "xaxis": "x",
         "y": [
          239899257,
          268551714,
          241129429,
          207945034,
          186296277,
          207962147,
          206253986,
          226703903,
          200105411,
          177734404
         ],
         "yaxis": "y"
        },
        {
         "fillpattern": {
          "shape": ""
         },
         "hovertemplate": "Område=Teknologi og Produktion<br>År=%{x}<br>Bevilliget beløb=%{y}<extra></extra>",
         "legendgroup": "Teknologi og Produktion",
         "line": {
          "color": "#FFA15A"
         },
         "marker": {
          "symbol": "circle"
         },
         "mode": "lines",
         "name": "Teknologi og Produktion",
         "orientation": "v",
         "showlegend": true,
         "stackgroup": "1",
         "type": "scatter",
         "x": [
          2013,
          2014,
          2015,
          2016,
          2017,
          2018,
          2019,
          2020,
          2021,
          2022
         ],
         "xaxis": "x",
         "y": [
          258185247,
          251285061,
          256221646,
          213536050,
          227738592,
          235664076,
          235422569,
          227264162,
          215950977,
          209241417
         ],
         "yaxis": "y"
        },
        {
         "fillpattern": {
          "shape": ""
         },
         "hovertemplate": "Område=Tværrådslig<br>År=%{x}<br>Bevilliget beløb=%{y}<extra></extra>",
         "legendgroup": "Tværrådslig",
         "line": {
          "color": "#19d3f3"
         },
         "marker": {
          "symbol": "circle"
         },
         "mode": "lines",
         "name": "Tværrådslig",
         "orientation": "v",
         "showlegend": true,
         "stackgroup": "1",
         "type": "scatter",
         "x": [
          2013,
          2014,
          2015,
          2016,
          2017,
          2018,
          2019,
          2020,
          2021,
          2022
         ],
         "xaxis": "x",
         "y": [
          308749007,
          426652837,
          288851813,
          147260544,
          187526572,
          227633385,
          232356514,
          257172033,
          281077313,
          41567038
         ],
         "yaxis": "y"
        },
        {
         "fillpattern": {
          "shape": ""
         },
         "hovertemplate": "Område=FSS<br>År=%{x}<br>Bevilliget beløb=%{y}<extra></extra>",
         "legendgroup": "FSS",
         "line": {
          "color": "#FF6692"
         },
         "marker": {
          "symbol": "circle"
         },
         "mode": "lines",
         "name": "FSS",
         "orientation": "v",
         "showlegend": true,
         "stackgroup": "1",
         "type": "scatter",
         "x": [
          2016
         ],
         "xaxis": "x",
         "y": [
          154650
         ],
         "yaxis": "y"
        },
        {
         "fillpattern": {
          "shape": ""
         },
         "hovertemplate": "Område=Tematisk » Læring og uddannelseskvalitet<br>År=%{x}<br>Bevilliget beløb=%{y}<extra></extra>",
         "legendgroup": "Tematisk » Læring og uddannelseskvalitet",
         "line": {
          "color": "#B6E880"
         },
         "marker": {
          "symbol": "circle"
         },
         "mode": "lines",
         "name": "Tematisk » Læring og uddannelseskvalitet",
         "orientation": "v",
         "showlegend": true,
         "stackgroup": "1",
         "type": "scatter",
         "x": [
          2018
         ],
         "xaxis": "x",
         "y": [
          19529873
         ],
         "yaxis": "y"
        },
        {
         "fillpattern": {
          "shape": ""
         },
         "hovertemplate": "Område=Tematisk » Mennesker og Samfund<br>År=%{x}<br>Bevilliget beløb=%{y}<extra></extra>",
         "legendgroup": "Tematisk » Mennesker og Samfund",
         "line": {
          "color": "#FF97FF"
         },
         "marker": {
          "symbol": "circle"
         },
         "mode": "lines",
         "name": "Tematisk » Mennesker og Samfund",
         "orientation": "v",
         "showlegend": true,
         "stackgroup": "1",
         "type": "scatter",
         "x": [
          2018,
          2019
         ],
         "xaxis": "x",
         "y": [
          51567087,
          49056794
         ],
         "yaxis": "y"
        },
        {
         "fillpattern": {
          "shape": ""
         },
         "hovertemplate": "Område=Tematisk » Samfundsøkonomiske effekter af velfærdsinvesteringer<br>År=%{x}<br>Bevilliget beløb=%{y}<extra></extra>",
         "legendgroup": "Tematisk » Samfundsøkonomiske effekter af velfærdsinvesteringer",
         "line": {
          "color": "#FECB52"
         },
         "marker": {
          "symbol": "circle"
         },
         "mode": "lines",
         "name": "Tematisk » Samfundsøkonomiske effekter af velfærdsinvesteringer",
         "orientation": "v",
         "showlegend": true,
         "stackgroup": "1",
         "type": "scatter",
         "x": [
          2018
         ],
         "xaxis": "x",
         "y": [
          11797406
         ],
         "yaxis": "y"
        },
        {
         "fillpattern": {
          "shape": ""
         },
         "hovertemplate": "Område=Tematisk » Tidlig indsats<br>År=%{x}<br>Bevilliget beløb=%{y}<extra></extra>",
         "legendgroup": "Tematisk » Tidlig indsats",
         "line": {
          "color": "#636efa"
         },
         "marker": {
          "symbol": "circle"
         },
         "mode": "lines",
         "name": "Tematisk » Tidlig indsats",
         "orientation": "v",
         "showlegend": true,
         "stackgroup": "1",
         "type": "scatter",
         "x": [
          2018,
          2020
         ],
         "xaxis": "x",
         "y": [
          19553000,
          20150078
         ],
         "yaxis": "y"
        },
        {
         "fillpattern": {
          "shape": ""
         },
         "hovertemplate": "Område=Tematisk » Digitale teknologier<br>År=%{x}<br>Bevilliget beløb=%{y}<extra></extra>",
         "legendgroup": "Tematisk » Digitale teknologier",
         "line": {
          "color": "#EF553B"
         },
         "marker": {
          "symbol": "circle"
         },
         "mode": "lines",
         "name": "Tematisk » Digitale teknologier",
         "orientation": "v",
         "showlegend": true,
         "stackgroup": "1",
         "type": "scatter",
         "x": [
          2019
         ],
         "xaxis": "x",
         "y": [
          79561702
         ],
         "yaxis": "y"
        },
        {
         "fillpattern": {
          "shape": ""
         },
         "hovertemplate": "Område=Grøn omstilling<br>År=%{x}<br>Bevilliget beløb=%{y}<extra></extra>",
         "legendgroup": "Grøn omstilling",
         "line": {
          "color": "#00cc96"
         },
         "marker": {
          "symbol": "circle"
         },
         "mode": "lines",
         "name": "Grøn omstilling",
         "orientation": "v",
         "showlegend": true,
         "stackgroup": "1",
         "type": "scatter",
         "x": [
          2020
         ],
         "xaxis": "x",
         "y": [
          2101071
         ],
         "yaxis": "y"
        },
        {
         "fillpattern": {
          "shape": ""
         },
         "hovertemplate": "Område=Tematisk » Arbejdet med udvikling af de økonomiske regneprincipper<br>År=%{x}<br>Bevilliget beløb=%{y}<extra></extra>",
         "legendgroup": "Tematisk » Arbejdet med udvikling af de økonomiske regneprincipper",
         "line": {
          "color": "#ab63fa"
         },
         "marker": {
          "symbol": "circle"
         },
         "mode": "lines",
         "name": "Tematisk » Arbejdet med udvikling af de økonomiske regneprincipper",
         "orientation": "v",
         "showlegend": true,
         "stackgroup": "1",
         "type": "scatter",
         "x": [
          2020
         ],
         "xaxis": "x",
         "y": [
          19562734
         ],
         "yaxis": "y"
        },
        {
         "fillpattern": {
          "shape": ""
         },
         "hovertemplate": "Område=Tematisk » Grøn omstilling<br>År=%{x}<br>Bevilliget beløb=%{y}<extra></extra>",
         "legendgroup": "Tematisk » Grøn omstilling",
         "line": {
          "color": "#FFA15A"
         },
         "marker": {
          "symbol": "circle"
         },
         "mode": "lines",
         "name": "Tematisk » Grøn omstilling",
         "orientation": "v",
         "showlegend": true,
         "stackgroup": "1",
         "type": "scatter",
         "x": [
          2020,
          2021
         ],
         "xaxis": "x",
         "y": [
          333438291,
          307275051
         ],
         "yaxis": "y"
        },
        {
         "fillpattern": {
          "shape": ""
         },
         "hovertemplate": "Område=T-udvalg<br>År=%{x}<br>Bevilliget beløb=%{y}<extra></extra>",
         "legendgroup": "T-udvalg",
         "line": {
          "color": "#19d3f3"
         },
         "marker": {
          "symbol": "circle"
         },
         "mode": "lines",
         "name": "T-udvalg",
         "orientation": "v",
         "showlegend": true,
         "stackgroup": "1",
         "type": "scatter",
         "x": [
          2021
         ],
         "xaxis": "x",
         "y": [
          23010004
         ],
         "yaxis": "y"
        },
        {
         "fillpattern": {
          "shape": ""
         },
         "hovertemplate": "Område=Tematisk<br>År=%{x}<br>Bevilliget beløb=%{y}<extra></extra>",
         "legendgroup": "Tematisk",
         "line": {
          "color": "#FF6692"
         },
         "marker": {
          "symbol": "circle"
         },
         "mode": "lines",
         "name": "Tematisk",
         "orientation": "v",
         "showlegend": true,
         "stackgroup": "1",
         "type": "scatter",
         "x": [
          2022
         ],
         "xaxis": "x",
         "y": [
          78070349
         ],
         "yaxis": "y"
        },
        {
         "fillpattern": {
          "shape": ""
         },
         "hovertemplate": "Område=Tematisk » Grøn forskning<br>År=%{x}<br>Bevilliget beløb=%{y}<extra></extra>",
         "legendgroup": "Tematisk » Grøn forskning",
         "line": {
          "color": "#B6E880"
         },
         "marker": {
          "symbol": "circle"
         },
         "mode": "lines",
         "name": "Tematisk » Grøn forskning",
         "orientation": "v",
         "showlegend": true,
         "stackgroup": "1",
         "type": "scatter",
         "x": [
          2022
         ],
         "xaxis": "x",
         "y": [
          105353345
         ],
         "yaxis": "y"
        },
        {
         "fillpattern": {
          "shape": ""
         },
         "hovertemplate": "Område=Tematisk » Styrket klinisk og uafhængig forskning<br>År=%{x}<br>Bevilliget beløb=%{y}<extra></extra>",
         "legendgroup": "Tematisk » Styrket klinisk og uafhængig forskning",
         "line": {
          "color": "#FF97FF"
         },
         "marker": {
          "symbol": "circle"
         },
         "mode": "lines",
         "name": "Tematisk » Styrket klinisk og uafhængig forskning",
         "orientation": "v",
         "showlegend": true,
         "stackgroup": "1",
         "type": "scatter",
         "x": [
          2022
         ],
         "xaxis": "x",
         "y": [
          125817291
         ],
         "yaxis": "y"
        }
       ],
       "layout": {
        "legend": {
         "title": {
          "text": "Område"
         },
         "tracegroupgap": 0
        },
        "margin": {
         "t": 60
        },
        "template": {
         "data": {
          "bar": [
           {
            "error_x": {
             "color": "#2a3f5f"
            },
            "error_y": {
             "color": "#2a3f5f"
            },
            "marker": {
             "line": {
              "color": "#E5ECF6",
              "width": 0.5
             },
             "pattern": {
              "fillmode": "overlay",
              "size": 10,
              "solidity": 0.2
             }
            },
            "type": "bar"
           }
          ],
          "barpolar": [
           {
            "marker": {
             "line": {
              "color": "#E5ECF6",
              "width": 0.5
             },
             "pattern": {
              "fillmode": "overlay",
              "size": 10,
              "solidity": 0.2
             }
            },
            "type": "barpolar"
           }
          ],
          "carpet": [
           {
            "aaxis": {
             "endlinecolor": "#2a3f5f",
             "gridcolor": "white",
             "linecolor": "white",
             "minorgridcolor": "white",
             "startlinecolor": "#2a3f5f"
            },
            "baxis": {
             "endlinecolor": "#2a3f5f",
             "gridcolor": "white",
             "linecolor": "white",
             "minorgridcolor": "white",
             "startlinecolor": "#2a3f5f"
            },
            "type": "carpet"
           }
          ],
          "choropleth": [
           {
            "colorbar": {
             "outlinewidth": 0,
             "ticks": ""
            },
            "type": "choropleth"
           }
          ],
          "contour": [
           {
            "colorbar": {
             "outlinewidth": 0,
             "ticks": ""
            },
            "colorscale": [
             [
              0,
              "#0d0887"
             ],
             [
              0.1111111111111111,
              "#46039f"
             ],
             [
              0.2222222222222222,
              "#7201a8"
             ],
             [
              0.3333333333333333,
              "#9c179e"
             ],
             [
              0.4444444444444444,
              "#bd3786"
             ],
             [
              0.5555555555555556,
              "#d8576b"
             ],
             [
              0.6666666666666666,
              "#ed7953"
             ],
             [
              0.7777777777777778,
              "#fb9f3a"
             ],
             [
              0.8888888888888888,
              "#fdca26"
             ],
             [
              1,
              "#f0f921"
             ]
            ],
            "type": "contour"
           }
          ],
          "contourcarpet": [
           {
            "colorbar": {
             "outlinewidth": 0,
             "ticks": ""
            },
            "type": "contourcarpet"
           }
          ],
          "heatmap": [
           {
            "colorbar": {
             "outlinewidth": 0,
             "ticks": ""
            },
            "colorscale": [
             [
              0,
              "#0d0887"
             ],
             [
              0.1111111111111111,
              "#46039f"
             ],
             [
              0.2222222222222222,
              "#7201a8"
             ],
             [
              0.3333333333333333,
              "#9c179e"
             ],
             [
              0.4444444444444444,
              "#bd3786"
             ],
             [
              0.5555555555555556,
              "#d8576b"
             ],
             [
              0.6666666666666666,
              "#ed7953"
             ],
             [
              0.7777777777777778,
              "#fb9f3a"
             ],
             [
              0.8888888888888888,
              "#fdca26"
             ],
             [
              1,
              "#f0f921"
             ]
            ],
            "type": "heatmap"
           }
          ],
          "heatmapgl": [
           {
            "colorbar": {
             "outlinewidth": 0,
             "ticks": ""
            },
            "colorscale": [
             [
              0,
              "#0d0887"
             ],
             [
              0.1111111111111111,
              "#46039f"
             ],
             [
              0.2222222222222222,
              "#7201a8"
             ],
             [
              0.3333333333333333,
              "#9c179e"
             ],
             [
              0.4444444444444444,
              "#bd3786"
             ],
             [
              0.5555555555555556,
              "#d8576b"
             ],
             [
              0.6666666666666666,
              "#ed7953"
             ],
             [
              0.7777777777777778,
              "#fb9f3a"
             ],
             [
              0.8888888888888888,
              "#fdca26"
             ],
             [
              1,
              "#f0f921"
             ]
            ],
            "type": "heatmapgl"
           }
          ],
          "histogram": [
           {
            "marker": {
             "pattern": {
              "fillmode": "overlay",
              "size": 10,
              "solidity": 0.2
             }
            },
            "type": "histogram"
           }
          ],
          "histogram2d": [
           {
            "colorbar": {
             "outlinewidth": 0,
             "ticks": ""
            },
            "colorscale": [
             [
              0,
              "#0d0887"
             ],
             [
              0.1111111111111111,
              "#46039f"
             ],
             [
              0.2222222222222222,
              "#7201a8"
             ],
             [
              0.3333333333333333,
              "#9c179e"
             ],
             [
              0.4444444444444444,
              "#bd3786"
             ],
             [
              0.5555555555555556,
              "#d8576b"
             ],
             [
              0.6666666666666666,
              "#ed7953"
             ],
             [
              0.7777777777777778,
              "#fb9f3a"
             ],
             [
              0.8888888888888888,
              "#fdca26"
             ],
             [
              1,
              "#f0f921"
             ]
            ],
            "type": "histogram2d"
           }
          ],
          "histogram2dcontour": [
           {
            "colorbar": {
             "outlinewidth": 0,
             "ticks": ""
            },
            "colorscale": [
             [
              0,
              "#0d0887"
             ],
             [
              0.1111111111111111,
              "#46039f"
             ],
             [
              0.2222222222222222,
              "#7201a8"
             ],
             [
              0.3333333333333333,
              "#9c179e"
             ],
             [
              0.4444444444444444,
              "#bd3786"
             ],
             [
              0.5555555555555556,
              "#d8576b"
             ],
             [
              0.6666666666666666,
              "#ed7953"
             ],
             [
              0.7777777777777778,
              "#fb9f3a"
             ],
             [
              0.8888888888888888,
              "#fdca26"
             ],
             [
              1,
              "#f0f921"
             ]
            ],
            "type": "histogram2dcontour"
           }
          ],
          "mesh3d": [
           {
            "colorbar": {
             "outlinewidth": 0,
             "ticks": ""
            },
            "type": "mesh3d"
           }
          ],
          "parcoords": [
           {
            "line": {
             "colorbar": {
              "outlinewidth": 0,
              "ticks": ""
             }
            },
            "type": "parcoords"
           }
          ],
          "pie": [
           {
            "automargin": true,
            "type": "pie"
           }
          ],
          "scatter": [
           {
            "fillpattern": {
             "fillmode": "overlay",
             "size": 10,
             "solidity": 0.2
            },
            "type": "scatter"
           }
          ],
          "scatter3d": [
           {
            "line": {
             "colorbar": {
              "outlinewidth": 0,
              "ticks": ""
             }
            },
            "marker": {
             "colorbar": {
              "outlinewidth": 0,
              "ticks": ""
             }
            },
            "type": "scatter3d"
           }
          ],
          "scattercarpet": [
           {
            "marker": {
             "colorbar": {
              "outlinewidth": 0,
              "ticks": ""
             }
            },
            "type": "scattercarpet"
           }
          ],
          "scattergeo": [
           {
            "marker": {
             "colorbar": {
              "outlinewidth": 0,
              "ticks": ""
             }
            },
            "type": "scattergeo"
           }
          ],
          "scattergl": [
           {
            "marker": {
             "colorbar": {
              "outlinewidth": 0,
              "ticks": ""
             }
            },
            "type": "scattergl"
           }
          ],
          "scattermapbox": [
           {
            "marker": {
             "colorbar": {
              "outlinewidth": 0,
              "ticks": ""
             }
            },
            "type": "scattermapbox"
           }
          ],
          "scatterpolar": [
           {
            "marker": {
             "colorbar": {
              "outlinewidth": 0,
              "ticks": ""
             }
            },
            "type": "scatterpolar"
           }
          ],
          "scatterpolargl": [
           {
            "marker": {
             "colorbar": {
              "outlinewidth": 0,
              "ticks": ""
             }
            },
            "type": "scatterpolargl"
           }
          ],
          "scatterternary": [
           {
            "marker": {
             "colorbar": {
              "outlinewidth": 0,
              "ticks": ""
             }
            },
            "type": "scatterternary"
           }
          ],
          "surface": [
           {
            "colorbar": {
             "outlinewidth": 0,
             "ticks": ""
            },
            "colorscale": [
             [
              0,
              "#0d0887"
             ],
             [
              0.1111111111111111,
              "#46039f"
             ],
             [
              0.2222222222222222,
              "#7201a8"
             ],
             [
              0.3333333333333333,
              "#9c179e"
             ],
             [
              0.4444444444444444,
              "#bd3786"
             ],
             [
              0.5555555555555556,
              "#d8576b"
             ],
             [
              0.6666666666666666,
              "#ed7953"
             ],
             [
              0.7777777777777778,
              "#fb9f3a"
             ],
             [
              0.8888888888888888,
              "#fdca26"
             ],
             [
              1,
              "#f0f921"
             ]
            ],
            "type": "surface"
           }
          ],
          "table": [
           {
            "cells": {
             "fill": {
              "color": "#EBF0F8"
             },
             "line": {
              "color": "white"
             }
            },
            "header": {
             "fill": {
              "color": "#C8D4E3"
             },
             "line": {
              "color": "white"
             }
            },
            "type": "table"
           }
          ]
         },
         "layout": {
          "annotationdefaults": {
           "arrowcolor": "#2a3f5f",
           "arrowhead": 0,
           "arrowwidth": 1
          },
          "autotypenumbers": "strict",
          "coloraxis": {
           "colorbar": {
            "outlinewidth": 0,
            "ticks": ""
           }
          },
          "colorscale": {
           "diverging": [
            [
             0,
             "#8e0152"
            ],
            [
             0.1,
             "#c51b7d"
            ],
            [
             0.2,
             "#de77ae"
            ],
            [
             0.3,
             "#f1b6da"
            ],
            [
             0.4,
             "#fde0ef"
            ],
            [
             0.5,
             "#f7f7f7"
            ],
            [
             0.6,
             "#e6f5d0"
            ],
            [
             0.7,
             "#b8e186"
            ],
            [
             0.8,
             "#7fbc41"
            ],
            [
             0.9,
             "#4d9221"
            ],
            [
             1,
             "#276419"
            ]
           ],
           "sequential": [
            [
             0,
             "#0d0887"
            ],
            [
             0.1111111111111111,
             "#46039f"
            ],
            [
             0.2222222222222222,
             "#7201a8"
            ],
            [
             0.3333333333333333,
             "#9c179e"
            ],
            [
             0.4444444444444444,
             "#bd3786"
            ],
            [
             0.5555555555555556,
             "#d8576b"
            ],
            [
             0.6666666666666666,
             "#ed7953"
            ],
            [
             0.7777777777777778,
             "#fb9f3a"
            ],
            [
             0.8888888888888888,
             "#fdca26"
            ],
            [
             1,
             "#f0f921"
            ]
           ],
           "sequentialminus": [
            [
             0,
             "#0d0887"
            ],
            [
             0.1111111111111111,
             "#46039f"
            ],
            [
             0.2222222222222222,
             "#7201a8"
            ],
            [
             0.3333333333333333,
             "#9c179e"
            ],
            [
             0.4444444444444444,
             "#bd3786"
            ],
            [
             0.5555555555555556,
             "#d8576b"
            ],
            [
             0.6666666666666666,
             "#ed7953"
            ],
            [
             0.7777777777777778,
             "#fb9f3a"
            ],
            [
             0.8888888888888888,
             "#fdca26"
            ],
            [
             1,
             "#f0f921"
            ]
           ]
          },
          "colorway": [
           "#636efa",
           "#EF553B",
           "#00cc96",
           "#ab63fa",
           "#FFA15A",
           "#19d3f3",
           "#FF6692",
           "#B6E880",
           "#FF97FF",
           "#FECB52"
          ],
          "font": {
           "color": "#2a3f5f"
          },
          "geo": {
           "bgcolor": "white",
           "lakecolor": "white",
           "landcolor": "#E5ECF6",
           "showlakes": true,
           "showland": true,
           "subunitcolor": "white"
          },
          "hoverlabel": {
           "align": "left"
          },
          "hovermode": "closest",
          "mapbox": {
           "style": "light"
          },
          "paper_bgcolor": "white",
          "plot_bgcolor": "#E5ECF6",
          "polar": {
           "angularaxis": {
            "gridcolor": "white",
            "linecolor": "white",
            "ticks": ""
           },
           "bgcolor": "#E5ECF6",
           "radialaxis": {
            "gridcolor": "white",
            "linecolor": "white",
            "ticks": ""
           }
          },
          "scene": {
           "xaxis": {
            "backgroundcolor": "#E5ECF6",
            "gridcolor": "white",
            "gridwidth": 2,
            "linecolor": "white",
            "showbackground": true,
            "ticks": "",
            "zerolinecolor": "white"
           },
           "yaxis": {
            "backgroundcolor": "#E5ECF6",
            "gridcolor": "white",
            "gridwidth": 2,
            "linecolor": "white",
            "showbackground": true,
            "ticks": "",
            "zerolinecolor": "white"
           },
           "zaxis": {
            "backgroundcolor": "#E5ECF6",
            "gridcolor": "white",
            "gridwidth": 2,
            "linecolor": "white",
            "showbackground": true,
            "ticks": "",
            "zerolinecolor": "white"
           }
          },
          "shapedefaults": {
           "line": {
            "color": "#2a3f5f"
           }
          },
          "ternary": {
           "aaxis": {
            "gridcolor": "white",
            "linecolor": "white",
            "ticks": ""
           },
           "baxis": {
            "gridcolor": "white",
            "linecolor": "white",
            "ticks": ""
           },
           "bgcolor": "#E5ECF6",
           "caxis": {
            "gridcolor": "white",
            "linecolor": "white",
            "ticks": ""
           }
          },
          "title": {
           "x": 0.05
          },
          "xaxis": {
           "automargin": true,
           "gridcolor": "white",
           "linecolor": "white",
           "ticks": "",
           "title": {
            "standoff": 15
           },
           "zerolinecolor": "white",
           "zerolinewidth": 2
          },
          "yaxis": {
           "automargin": true,
           "gridcolor": "white",
           "linecolor": "white",
           "ticks": "",
           "title": {
            "standoff": 15
           },
           "zerolinecolor": "white",
           "zerolinewidth": 2
          }
         }
        },
        "xaxis": {
         "anchor": "y",
         "domain": [
          0,
          1
         ],
         "title": {
          "text": "År"
         }
        },
        "yaxis": {
         "anchor": "x",
         "domain": [
          0,
          1
         ],
         "title": {
          "text": "Bevilliget beløb"
         }
        }
       }
      }
     },
     "metadata": {},
     "output_type": "display_data"
    }
   ],
   "source": [
    "# plotting stacked area chart\n",
    "generateStacked('Bevilliget beløb', 'Område')"
   ]
  },
  {
   "cell_type": "code",
   "execution_count": 4,
   "metadata": {},
   "outputs": [
    {
     "data": {
      "application/vnd.plotly.v1+json": {
       "config": {
        "plotlyServerURL": "https://plot.ly"
       },
       "data": [
        {
         "link": {
          "color": [
           "rgba(117, 13, 134, 0.5)",
           "rgba(117, 13, 134, 0.5)",
           "rgba(117, 13, 134, 0.5)",
           "rgba(117, 13, 134, 0.5)",
           "rgba(117, 13, 134, 0.5)",
           "rgba(117, 13, 134, 0.5)",
           "rgba(117, 13, 134, 0.5)",
           "rgba(117, 13, 134, 0.5)",
           "rgba(117, 13, 134, 0.5)",
           "rgba(117, 13, 134, 0.5)",
           "rgba(117, 13, 134, 0.5)",
           "rgba(117, 13, 134, 0.5)",
           "rgba(235, 102, 59, 0.5)",
           "rgba(235, 102, 59, 0.5)",
           "rgba(235, 102, 59, 0.5)",
           "rgba(235, 102, 59, 0.5)",
           "rgba(235, 102, 59, 0.5)",
           "rgba(235, 102, 59, 0.5)",
           "rgba(235, 102, 59, 0.5)",
           "rgba(235, 102, 59, 0.5)",
           "rgba(235, 102, 59, 0.5)",
           "rgba(235, 102, 59, 0.5)",
           "rgba(235, 102, 59, 0.5)",
           "rgba(235, 102, 59, 0.5)",
           "rgba(235, 102, 59, 0.5)",
           "rgba(235, 102, 59, 0.5)",
           "rgba(235, 102, 59, 0.5)",
           "rgba(81, 28, 251, 0.5)",
           "rgba(81, 28, 251, 0.5)",
           "rgba(81, 28, 251, 0.5)",
           "rgba(81, 28, 251, 0.5)",
           "rgba(81, 28, 251, 0.5)",
           "rgba(81, 28, 251, 0.5)",
           "rgba(81, 28, 251, 0.5)",
           "rgba(81, 28, 251, 0.5)",
           "rgba(81, 28, 251, 0.5)",
           "rgba(81, 28, 251, 0.5)",
           "rgba(81, 28, 251, 0.5)",
           "rgba(81, 28, 251, 0.5)",
           "rgba(81, 28, 251, 0.5)",
           "rgba(46, 145, 229, 0.5)",
           "rgba(46, 145, 229, 0.5)",
           "rgba(46, 145, 229, 0.5)",
           "rgba(46, 145, 229, 0.5)",
           "rgba(46, 145, 229, 0.5)",
           "rgba(46, 145, 229, 0.5)",
           "rgba(46, 145, 229, 0.5)",
           "rgba(46, 145, 229, 0.5)",
           "rgba(46, 145, 229, 0.5)",
           "rgba(46, 145, 229, 0.5)",
           "rgba(46, 145, 229, 0.5)",
           "rgba(46, 145, 229, 0.5)",
           "rgba(225, 95, 153, 0.5)",
           "rgba(225, 95, 153, 0.5)",
           "rgba(225, 95, 153, 0.5)",
           "rgba(225, 95, 153, 0.5)",
           "rgba(225, 95, 153, 0.5)",
           "rgba(225, 95, 153, 0.5)",
           "rgba(225, 95, 153, 0.5)",
           "rgba(225, 95, 153, 0.5)",
           "rgba(225, 95, 153, 0.5)",
           "rgba(225, 95, 153, 0.5)",
           "rgba(28, 167, 28, 0.5)",
           "rgba(28, 167, 28, 0.5)",
           "rgba(28, 167, 28, 0.5)",
           "rgba(28, 167, 28, 0.5)",
           "rgba(28, 167, 28, 0.5)",
           "rgba(28, 167, 28, 0.5)",
           "rgba(28, 167, 28, 0.5)",
           "rgba(28, 167, 28, 0.5)",
           "rgba(28, 167, 28, 0.5)",
           "rgba(28, 167, 28, 0.5)",
           "rgba(28, 167, 28, 0.5)",
           "rgba(28, 167, 28, 0.5)",
           "rgba(28, 167, 28, 0.5)",
           "rgba(28, 167, 28, 0.5)",
           "rgba(251, 13, 13, 0.5)",
           "rgba(251, 13, 13, 0.5)",
           "rgba(251, 13, 13, 0.5)",
           "rgba(251, 13, 13, 0.5)",
           "rgba(251, 13, 13, 0.5)",
           "rgba(251, 13, 13, 0.5)",
           "rgba(251, 13, 13, 0.5)",
           "rgba(251, 13, 13, 0.5)",
           "rgba(251, 13, 13, 0.5)",
           "rgba(251, 13, 13, 0.5)",
           "rgba(251, 13, 13, 0.5)",
           "rgba(251, 13, 13, 0.5)",
           "rgba(251, 13, 13, 0.5)",
           "rgba(251, 13, 13, 0.5)",
           "rgba(218, 22, 255, 0.5)",
           "rgba(218, 22, 255, 0.5)",
           "rgba(218, 22, 255, 0.5)",
           "rgba(218, 22, 255, 0.5)",
           "rgba(218, 22, 255, 0.5)",
           "rgba(218, 22, 255, 0.5)",
           "rgba(218, 22, 255, 0.5)",
           "rgba(218, 22, 255, 0.5)",
           "rgba(218, 22, 255, 0.5)",
           "rgba(218, 22, 255, 0.5)",
           "rgba(218, 22, 255, 0.5)",
           "rgba(218, 22, 255, 0.5)",
           "rgba(218, 22, 255, 0.5)",
           "rgba(218, 22, 255, 0.5)",
           "rgba(218, 22, 255, 0.5)",
           "rgba(34, 42, 42, 0.5)",
           "rgba(34, 42, 42, 0.5)",
           "rgba(34, 42, 42, 0.5)",
           "rgba(34, 42, 42, 0.5)",
           "rgba(34, 42, 42, 0.5)",
           "rgba(34, 42, 42, 0.5)",
           "rgba(34, 42, 42, 0.5)",
           "rgba(34, 42, 42, 0.5)",
           "rgba(34, 42, 42, 0.5)",
           "rgba(34, 42, 42, 0.5)",
           "rgba(34, 42, 42, 0.5)",
           "rgba(34, 42, 42, 0.5)",
           "rgba(182, 129, 0, 0.5)",
           "rgba(182, 129, 0, 0.5)",
           "rgba(182, 129, 0, 0.5)",
           "rgba(182, 129, 0, 0.5)",
           "rgba(182, 129, 0, 0.5)",
           "rgba(182, 129, 0, 0.5)",
           "rgba(182, 129, 0, 0.5)",
           "rgba(182, 142, 0, 0.5)",
           "rgba(182, 142, 0, 0.5)",
           "rgba(182, 142, 0, 0.5)",
           "rgba(182, 142, 0, 0.5)",
           "rgba(182, 142, 0, 0.5)",
           "rgba(22, 22, 167, 0.5)",
           "rgba(22, 22, 167, 0.5)",
           "rgba(22, 22, 167, 0.5)",
           "rgba(22, 22, 167, 0.5)",
           "rgba(22, 22, 167, 0.5)",
           "rgba(22, 22, 167, 0.5)",
           "rgba(22, 22, 167, 0.5)",
           "rgba(22, 22, 167, 0.5)",
           "rgba(238, 166, 251, 0.5)",
           "rgba(238, 166, 251, 0.5)",
           "rgba(238, 166, 251, 0.5)",
           "rgba(238, 166, 251, 0.5)",
           "rgba(134, 42, 22, 0.5)",
           "rgba(106, 118, 252, 0.5)",
           "rgba(253, 50, 22, 0.5)",
           "rgba(253, 50, 22, 0.5)",
           "rgba(119, 138, 174, 0.5)",
           "rgba(175, 0, 56, 0.5)",
           "rgba(251, 0, 209, 0.5)",
           "rgba(0, 181, 247, 0.5)",
           "rgba(167, 119, 241, 0.5)",
           "rgba(0, 160, 139, 0.5)",
           "rgba(108, 69, 22, 0.5)",
           "rgba(108, 69, 22, 0.5)",
           "rgba(108, 69, 22, 0.5)",
           "rgba(108, 69, 22, 0.5)",
           "rgba(108, 69, 22, 0.5)",
           "rgba(108, 69, 22, 0.5)",
           "rgba(13, 42, 99, 0.5)",
           "rgba(13, 42, 99, 0.5)",
           "rgba(13, 42, 99, 0.5)",
           "rgba(13, 42, 99, 0.5)",
           "rgba(13, 42, 99, 0.5)",
           "rgba(13, 42, 99, 0.5)",
           "rgba(110, 137, 156, 0.5)",
           "rgba(98, 0, 66, 0.5)",
           "rgba(98, 0, 66, 0.5)",
           "rgba(98, 0, 66, 0.5)",
           "rgba(98, 0, 66, 0.5)",
           "rgba(98, 0, 66, 0.5)",
           "rgba(98, 0, 66, 0.5)",
           "rgba(98, 0, 66, 0.5)",
           "rgba(178, 130, 141, 0.5)",
           "rgba(178, 130, 141, 0.5)",
           "rgba(178, 130, 141, 0.5)",
           "rgba(178, 130, 141, 0.5)",
           "rgba(178, 130, 141, 0.5)",
           "rgba(13, 249, 255, 0.5)",
           "rgba(214, 38, 255, 0.5)",
           "rgba(254, 0, 206, 0.5)",
           "rgba(201, 251, 229, 0.5)",
           "rgba(246, 249, 38, 0.5)",
           "rgba(246, 249, 38, 0.5)",
           "rgba(246, 249, 38, 0.5)",
           "rgba(246, 249, 38, 0.5)",
           "rgba(246, 249, 38, 0.5)",
           "rgba(71, 155, 85, 0.5)",
           "rgba(218, 96, 202, 0.5)",
           "rgba(255, 150, 22, 0.5)",
           "rgba(252, 0, 128, 0.5)",
           "rgba(108, 124, 50, 0.5)",
           "rgba(0, 254, 53, 0.5)",
           "rgba(254, 212, 196, 0.5)",
           "rgba(254, 212, 196, 0.5)",
           "rgba(220, 88, 125, 0.5)",
           "rgba(188, 113, 150, 0.5)",
           "rgba(188, 113, 150, 0.5)",
           "rgba(86, 86, 86, 0.5)",
           "rgba(86, 86, 86, 0.5)",
           "rgba(228, 143, 114, 0.5)",
           "rgba(228, 143, 114, 0.5)",
           "rgba(34, 255, 167, 0.5)",
           "rgba(34, 255, 167, 0.5)",
           "rgba(133, 102, 13, 0.5)",
           "rgba(133, 102, 13, 0.5)",
           "rgba(255, 0, 146, 0.5)",
           "rgba(255, 0, 146, 0.5)",
           "rgba(120, 42, 182, 0.5)",
           "rgba(170, 13, 254, 0.5)",
           "rgba(252, 105, 85, 0.5)",
           "rgba(252, 105, 85, 0.5)",
           "rgba(134, 206, 0, 0.5)",
           "rgba(134, 206, 0, 0.5)",
           "rgba(227, 238, 158, 0.5)",
           "rgba(22, 255, 50, 0.5)",
           "rgba(22, 255, 50, 0.5)",
           "rgba(50, 131, 254, 0.5)",
           "rgba(50, 131, 254, 0.5)",
           "rgba(28, 131, 86, 0.5)",
           "rgba(126, 125, 205, 0.5)",
           "rgba(126, 125, 205, 0.5)"
          ],
          "source": [
           7,
           7,
           7,
           7,
           7,
           7,
           7,
           7,
           7,
           7,
           7,
           7,
           8,
           8,
           8,
           8,
           8,
           8,
           8,
           8,
           8,
           8,
           8,
           8,
           8,
           8,
           8,
           9,
           9,
           9,
           9,
           9,
           9,
           9,
           9,
           9,
           9,
           9,
           9,
           9,
           0,
           0,
           0,
           0,
           0,
           0,
           0,
           0,
           0,
           0,
           0,
           0,
           1,
           1,
           1,
           1,
           1,
           1,
           1,
           1,
           1,
           1,
           2,
           2,
           2,
           2,
           2,
           2,
           2,
           2,
           2,
           2,
           2,
           2,
           2,
           2,
           3,
           3,
           3,
           3,
           3,
           3,
           3,
           3,
           3,
           3,
           3,
           3,
           3,
           3,
           4,
           4,
           4,
           4,
           4,
           4,
           4,
           4,
           4,
           4,
           4,
           4,
           4,
           4,
           4,
           5,
           5,
           5,
           5,
           5,
           5,
           5,
           5,
           5,
           5,
           5,
           5,
           6,
           6,
           6,
           6,
           6,
           6,
           6,
           38,
           38,
           38,
           38,
           38,
           19,
           19,
           19,
           19,
           19,
           19,
           19,
           19,
           33,
           33,
           33,
           33,
           16,
           26,
           24,
           24,
           15,
           23,
           11,
           37,
           17,
           10,
           21,
           21,
           21,
           21,
           21,
           21,
           22,
           22,
           22,
           22,
           22,
           22,
           36,
           18,
           18,
           18,
           18,
           18,
           18,
           18,
           13,
           13,
           13,
           13,
           13,
           29,
           35,
           28,
           39,
           30,
           30,
           30,
           30,
           30,
           32,
           20,
           31,
           12,
           14,
           25,
           27,
           27,
           34,
           44,
           44,
           52,
           52,
           47,
           47,
           41,
           41,
           50,
           50,
           40,
           40,
           51,
           48,
           46,
           46,
           43,
           43,
           42,
           54,
           54,
           49,
           49,
           53,
           45,
           45
          ],
          "target": [
           37,
           21,
           22,
           29,
           35,
           30,
           32,
           20,
           31,
           12,
           25,
           27,
           15,
           11,
           37,
           21,
           22,
           29,
           35,
           39,
           30,
           32,
           20,
           31,
           12,
           14,
           25,
           11,
           21,
           22,
           29,
           35,
           28,
           39,
           30,
           32,
           20,
           31,
           12,
           25,
           26,
           11,
           17,
           21,
           22,
           29,
           28,
           39,
           30,
           32,
           31,
           25,
           11,
           17,
           10,
           21,
           22,
           29,
           28,
           39,
           25,
           27,
           38,
           19,
           33,
           24,
           11,
           17,
           10,
           21,
           22,
           13,
           29,
           28,
           39,
           25,
           38,
           19,
           33,
           24,
           11,
           17,
           10,
           21,
           22,
           13,
           29,
           28,
           39,
           25,
           38,
           19,
           33,
           16,
           11,
           17,
           10,
           21,
           22,
           13,
           29,
           28,
           39,
           25,
           34,
           19,
           33,
           16,
           23,
           37,
           17,
           21,
           22,
           36,
           18,
           29,
           28,
           19,
           10,
           21,
           22,
           18,
           13,
           29,
           44,
           52,
           47,
           41,
           50,
           51,
           48,
           46,
           43,
           42,
           54,
           49,
           53,
           48,
           43,
           54,
           53,
           43,
           41,
           52,
           50,
           41,
           44,
           44,
           47,
           47,
           47,
           44,
           52,
           47,
           41,
           50,
           45,
           44,
           52,
           47,
           41,
           50,
           45,
           43,
           44,
           52,
           47,
           41,
           50,
           40,
           45,
           44,
           52,
           47,
           41,
           50,
           45,
           41,
           41,
           41,
           44,
           52,
           47,
           41,
           50,
           44,
           45,
           45,
           45,
           45,
           44,
           47,
           41,
           45,
           55,
           56,
           55,
           56,
           55,
           56,
           55,
           56,
           55,
           56,
           55,
           56,
           55,
           55,
           55,
           56,
           55,
           56,
           56,
           55,
           56,
           55,
           56,
           55,
           55,
           56
          ],
          "value": [
           412992,
           67974382,
           142665370,
           82079503,
           864000,
           96248353,
           454586,
           23585731,
           8233371,
           46169109,
           215000,
           7345145,
           597204,
           1940696,
           306046,
           101915299,
           146470761,
           63093992,
           1603800,
           1080000,
           130145320,
           555948,
           32489974,
           7537443,
           34966131,
           63232974,
           90000,
           1007963,
           122461053,
           154376984,
           54399509,
           806400,
           1537050,
           907639,
           89941925,
           706378,
           23740196,
           8252513,
           29636838,
           120000,
           1428480,
           3878361,
           541152,
           132915754,
           179296885,
           61397596,
           720000,
           662160,
           76791199,
           449589,
           1296000,
           360000,
           2444184,
           140440,
           437237,
           177603104,
           159804319,
           93069364,
           288000,
           288000,
           180000,
           2592000,
           1858818,
           5647821,
           37398643,
           3018612,
           2227968,
           569279,
           652159,
           195383823,
           176791772,
           1446379,
           82120828,
           288000,
           432000,
           270000,
           1780932,
           16681439,
           23592699,
           1964647,
           2412003,
           344269,
           257616,
           153069043,
           187010768,
           4233500,
           76140007,
           144000,
           288000,
           90000,
           5172822,
           48647942,
           48238314,
           35004150,
           1207862,
           556704,
           977989,
           212859587,
           132824101,
           3992000,
           95692554,
           288000,
           144000,
           150000,
           11764003,
           28685169,
           24394097,
           23818596,
           717263,
           487269,
           288000,
           175454370,
           113559183,
           11860051,
           51126576,
           108910864,
           144000,
           65005946,
           424800,
           178871672,
           137293611,
           30932556,
           11672545,
           92467069,
           979982,
           5337769,
           452961,
           1858638,
           183222,
           5753833,
           8075292,
           50921024,
           68848604,
           5647821,
           8606147,
           14084922,
           2730674,
           11801960,
           66526277,
           40413436,
           14882080,
           58822746,
           1428480,
           3774612,
           1208647,
           597204,
           717263,
           15119037,
           1206307,
           2439844,
           2749801,
           52738457,
           497567801,
           80716136,
           641966299,
           231539846,
           13979548,
           422088366,
           366637035,
           174734792,
           155174765,
           389841997,
           21616799,
           11860051,
           8638852,
           14369389,
           2880000,
           15305168,
           5754630,
           30932556,
           4178537,
           1303500,
           1875797,
           8281705,
           4866243,
           5017179,
           809371286,
           3274200,
           3409050,
           3801799,
           67530949,
           33541552,
           60263151,
           151404020,
           80387125,
           2166501,
           79815901,
           25319327,
           110772078,
           63232974,
           1475000,
           7345145,
           2592000,
           11764003,
           450019693,
           122738214,
           747328579,
           175775376,
           229636184,
           111433658,
           802889827,
           182788039,
           637456534,
           76476112,
           25461356,
           5471200,
           5753833,
           19877252,
           48042464,
           2878560,
           178953149,
           27104529,
           5647821,
           37228844,
           11790739,
           5757120,
           8327802,
           17612754,
           969702524,
           170347929
          ]
         },
         "node": {
          "color": [
           "#2E91E5",
           "#E15F99",
           "#1CA71C",
           "#FB0D0D",
           "#DA16FF",
           "#222A2A",
           "#B68100",
           "#750D86",
           "#EB663B",
           "#511CFB",
           "#00A08B",
           "#FB00D1",
           "#FC0080",
           "#B2828D",
           "#6C7C32",
           "#778AAE",
           "#862A16",
           "#A777F1",
           "#620042",
           "#1616A7",
           "#DA60CA",
           "#6C4516",
           "#0D2A63",
           "#AF0038",
           "#FD3216",
           "#00FE35",
           "#6A76FC",
           "#FED4C4",
           "#FE00CE",
           "#0DF9FF",
           "#F6F926",
           "#FF9616",
           "#479B55",
           "#EEA6FB",
           "#DC587D",
           "#D626FF",
           "#6E899C",
           "#00B5F7",
           "#B68E00",
           "#C9FBE5",
           "#FF0092",
           "#22FFA7",
           "#E3EE9E",
           "#86CE00",
           "#BC7196",
           "#7E7DCD",
           "#FC6955",
           "#E48F72",
           "#AA0DFE",
           "#3283FE",
           "#85660D",
           "#782AB6",
           "#565656",
           "#1C8356",
           "#16FF32",
           "#F7E1A0",
           "#E2E2E2"
          ],
          "label": [
           2016,
           2017,
           2018,
           2019,
           2020,
           2021,
           2022,
           2013,
           2014,
           2015,
           "Forskningsophold i udlandet » Forår",
           "Forskernetværk",
           "Tidligere virkemiddel » Sapere Aude Topforsker",
           "International postdoc",
           "Tidligere virkemiddel » YDUN",
           "Delestillinger",
           "DFF-Forskningsprojekt 3 (tematisk forskning)",
           "Forskningsophold i udlandet » Efterår",
           "Inge Lehmann",
           "DFF-Forskningsprojekt 1 (tematisk forskning)",
           "Tidligere virkemiddel » MOBILEX",
           "Forskningsprojekt 1",
           "Forskningsprojekt 2",
           "Eksplorativt Netværk",
           "DFF–Dansk ERC-støtteprogram",
           "Tidsskrifter",
           "DFF-Individuelt postdocstipendium",
           "Øvrige forskningsprojekter",
           "Skolarstipendier » Efterår",
           "Sapere Aude Forskningsleder",
           "Tidligere virkemiddel » Individuelle postdoc",
           "Tidligere virkemiddel » Sapere Aude Forskertalent",
           "Tidligere virkemiddel » Konferencer",
           "DFF-Forskningsprojekt 2 (tematisk forskning)",
           "Øvrige projekter",
           "Skolarstipendier",
           "Forskningsprojekt 3 (tematisk forskning)",
           "Forskningsophold i udlandet",
           "DFF-Dansk ERC-støtteprogram",
           "Skolarstipendier » Forår",
           "Tematisk",
           "Sundhed og Sygdom",
           "Tematisk » Læring og uddannelseskvalitet",
           "Tematisk » Grøn omstilling",
           "Kultur og Kommunikation",
           "Tværrådslig",
           "Tematisk » Grøn forskning",
           "Samfund og Erhverv",
           "Tematisk » Digitale teknologier",
           "Tematisk » Styrket klinisk og uafhængig forskning",
           "Teknologi og Produktion",
           "Tematisk » Arbejdet med udvikling af de økonomiske regneprincipper",
           "Natur og Univers",
           "Tematisk » Tidlig indsats",
           "Tematisk » Mennesker og Samfund",
           "Københavns Universitet",
           "Syddansk Universitet"
          ],
          "line": {
           "color": "black",
           "width": 0.5
          },
          "pad": 15,
          "thickness": 20
         },
         "type": "sankey",
         "valueformat": ",",
         "valuesuffix": " kr."
        }
       ],
       "layout": {
        "font": {
         "size": 10
        },
        "height": 1000,
        "template": {
         "data": {
          "bar": [
           {
            "error_x": {
             "color": "#2a3f5f"
            },
            "error_y": {
             "color": "#2a3f5f"
            },
            "marker": {
             "line": {
              "color": "#E5ECF6",
              "width": 0.5
             },
             "pattern": {
              "fillmode": "overlay",
              "size": 10,
              "solidity": 0.2
             }
            },
            "type": "bar"
           }
          ],
          "barpolar": [
           {
            "marker": {
             "line": {
              "color": "#E5ECF6",
              "width": 0.5
             },
             "pattern": {
              "fillmode": "overlay",
              "size": 10,
              "solidity": 0.2
             }
            },
            "type": "barpolar"
           }
          ],
          "carpet": [
           {
            "aaxis": {
             "endlinecolor": "#2a3f5f",
             "gridcolor": "white",
             "linecolor": "white",
             "minorgridcolor": "white",
             "startlinecolor": "#2a3f5f"
            },
            "baxis": {
             "endlinecolor": "#2a3f5f",
             "gridcolor": "white",
             "linecolor": "white",
             "minorgridcolor": "white",
             "startlinecolor": "#2a3f5f"
            },
            "type": "carpet"
           }
          ],
          "choropleth": [
           {
            "colorbar": {
             "outlinewidth": 0,
             "ticks": ""
            },
            "type": "choropleth"
           }
          ],
          "contour": [
           {
            "colorbar": {
             "outlinewidth": 0,
             "ticks": ""
            },
            "colorscale": [
             [
              0,
              "#0d0887"
             ],
             [
              0.1111111111111111,
              "#46039f"
             ],
             [
              0.2222222222222222,
              "#7201a8"
             ],
             [
              0.3333333333333333,
              "#9c179e"
             ],
             [
              0.4444444444444444,
              "#bd3786"
             ],
             [
              0.5555555555555556,
              "#d8576b"
             ],
             [
              0.6666666666666666,
              "#ed7953"
             ],
             [
              0.7777777777777778,
              "#fb9f3a"
             ],
             [
              0.8888888888888888,
              "#fdca26"
             ],
             [
              1,
              "#f0f921"
             ]
            ],
            "type": "contour"
           }
          ],
          "contourcarpet": [
           {
            "colorbar": {
             "outlinewidth": 0,
             "ticks": ""
            },
            "type": "contourcarpet"
           }
          ],
          "heatmap": [
           {
            "colorbar": {
             "outlinewidth": 0,
             "ticks": ""
            },
            "colorscale": [
             [
              0,
              "#0d0887"
             ],
             [
              0.1111111111111111,
              "#46039f"
             ],
             [
              0.2222222222222222,
              "#7201a8"
             ],
             [
              0.3333333333333333,
              "#9c179e"
             ],
             [
              0.4444444444444444,
              "#bd3786"
             ],
             [
              0.5555555555555556,
              "#d8576b"
             ],
             [
              0.6666666666666666,
              "#ed7953"
             ],
             [
              0.7777777777777778,
              "#fb9f3a"
             ],
             [
              0.8888888888888888,
              "#fdca26"
             ],
             [
              1,
              "#f0f921"
             ]
            ],
            "type": "heatmap"
           }
          ],
          "heatmapgl": [
           {
            "colorbar": {
             "outlinewidth": 0,
             "ticks": ""
            },
            "colorscale": [
             [
              0,
              "#0d0887"
             ],
             [
              0.1111111111111111,
              "#46039f"
             ],
             [
              0.2222222222222222,
              "#7201a8"
             ],
             [
              0.3333333333333333,
              "#9c179e"
             ],
             [
              0.4444444444444444,
              "#bd3786"
             ],
             [
              0.5555555555555556,
              "#d8576b"
             ],
             [
              0.6666666666666666,
              "#ed7953"
             ],
             [
              0.7777777777777778,
              "#fb9f3a"
             ],
             [
              0.8888888888888888,
              "#fdca26"
             ],
             [
              1,
              "#f0f921"
             ]
            ],
            "type": "heatmapgl"
           }
          ],
          "histogram": [
           {
            "marker": {
             "pattern": {
              "fillmode": "overlay",
              "size": 10,
              "solidity": 0.2
             }
            },
            "type": "histogram"
           }
          ],
          "histogram2d": [
           {
            "colorbar": {
             "outlinewidth": 0,
             "ticks": ""
            },
            "colorscale": [
             [
              0,
              "#0d0887"
             ],
             [
              0.1111111111111111,
              "#46039f"
             ],
             [
              0.2222222222222222,
              "#7201a8"
             ],
             [
              0.3333333333333333,
              "#9c179e"
             ],
             [
              0.4444444444444444,
              "#bd3786"
             ],
             [
              0.5555555555555556,
              "#d8576b"
             ],
             [
              0.6666666666666666,
              "#ed7953"
             ],
             [
              0.7777777777777778,
              "#fb9f3a"
             ],
             [
              0.8888888888888888,
              "#fdca26"
             ],
             [
              1,
              "#f0f921"
             ]
            ],
            "type": "histogram2d"
           }
          ],
          "histogram2dcontour": [
           {
            "colorbar": {
             "outlinewidth": 0,
             "ticks": ""
            },
            "colorscale": [
             [
              0,
              "#0d0887"
             ],
             [
              0.1111111111111111,
              "#46039f"
             ],
             [
              0.2222222222222222,
              "#7201a8"
             ],
             [
              0.3333333333333333,
              "#9c179e"
             ],
             [
              0.4444444444444444,
              "#bd3786"
             ],
             [
              0.5555555555555556,
              "#d8576b"
             ],
             [
              0.6666666666666666,
              "#ed7953"
             ],
             [
              0.7777777777777778,
              "#fb9f3a"
             ],
             [
              0.8888888888888888,
              "#fdca26"
             ],
             [
              1,
              "#f0f921"
             ]
            ],
            "type": "histogram2dcontour"
           }
          ],
          "mesh3d": [
           {
            "colorbar": {
             "outlinewidth": 0,
             "ticks": ""
            },
            "type": "mesh3d"
           }
          ],
          "parcoords": [
           {
            "line": {
             "colorbar": {
              "outlinewidth": 0,
              "ticks": ""
             }
            },
            "type": "parcoords"
           }
          ],
          "pie": [
           {
            "automargin": true,
            "type": "pie"
           }
          ],
          "scatter": [
           {
            "fillpattern": {
             "fillmode": "overlay",
             "size": 10,
             "solidity": 0.2
            },
            "type": "scatter"
           }
          ],
          "scatter3d": [
           {
            "line": {
             "colorbar": {
              "outlinewidth": 0,
              "ticks": ""
             }
            },
            "marker": {
             "colorbar": {
              "outlinewidth": 0,
              "ticks": ""
             }
            },
            "type": "scatter3d"
           }
          ],
          "scattercarpet": [
           {
            "marker": {
             "colorbar": {
              "outlinewidth": 0,
              "ticks": ""
             }
            },
            "type": "scattercarpet"
           }
          ],
          "scattergeo": [
           {
            "marker": {
             "colorbar": {
              "outlinewidth": 0,
              "ticks": ""
             }
            },
            "type": "scattergeo"
           }
          ],
          "scattergl": [
           {
            "marker": {
             "colorbar": {
              "outlinewidth": 0,
              "ticks": ""
             }
            },
            "type": "scattergl"
           }
          ],
          "scattermapbox": [
           {
            "marker": {
             "colorbar": {
              "outlinewidth": 0,
              "ticks": ""
             }
            },
            "type": "scattermapbox"
           }
          ],
          "scatterpolar": [
           {
            "marker": {
             "colorbar": {
              "outlinewidth": 0,
              "ticks": ""
             }
            },
            "type": "scatterpolar"
           }
          ],
          "scatterpolargl": [
           {
            "marker": {
             "colorbar": {
              "outlinewidth": 0,
              "ticks": ""
             }
            },
            "type": "scatterpolargl"
           }
          ],
          "scatterternary": [
           {
            "marker": {
             "colorbar": {
              "outlinewidth": 0,
              "ticks": ""
             }
            },
            "type": "scatterternary"
           }
          ],
          "surface": [
           {
            "colorbar": {
             "outlinewidth": 0,
             "ticks": ""
            },
            "colorscale": [
             [
              0,
              "#0d0887"
             ],
             [
              0.1111111111111111,
              "#46039f"
             ],
             [
              0.2222222222222222,
              "#7201a8"
             ],
             [
              0.3333333333333333,
              "#9c179e"
             ],
             [
              0.4444444444444444,
              "#bd3786"
             ],
             [
              0.5555555555555556,
              "#d8576b"
             ],
             [
              0.6666666666666666,
              "#ed7953"
             ],
             [
              0.7777777777777778,
              "#fb9f3a"
             ],
             [
              0.8888888888888888,
              "#fdca26"
             ],
             [
              1,
              "#f0f921"
             ]
            ],
            "type": "surface"
           }
          ],
          "table": [
           {
            "cells": {
             "fill": {
              "color": "#EBF0F8"
             },
             "line": {
              "color": "white"
             }
            },
            "header": {
             "fill": {
              "color": "#C8D4E3"
             },
             "line": {
              "color": "white"
             }
            },
            "type": "table"
           }
          ]
         },
         "layout": {
          "annotationdefaults": {
           "arrowcolor": "#2a3f5f",
           "arrowhead": 0,
           "arrowwidth": 1
          },
          "autotypenumbers": "strict",
          "coloraxis": {
           "colorbar": {
            "outlinewidth": 0,
            "ticks": ""
           }
          },
          "colorscale": {
           "diverging": [
            [
             0,
             "#8e0152"
            ],
            [
             0.1,
             "#c51b7d"
            ],
            [
             0.2,
             "#de77ae"
            ],
            [
             0.3,
             "#f1b6da"
            ],
            [
             0.4,
             "#fde0ef"
            ],
            [
             0.5,
             "#f7f7f7"
            ],
            [
             0.6,
             "#e6f5d0"
            ],
            [
             0.7,
             "#b8e186"
            ],
            [
             0.8,
             "#7fbc41"
            ],
            [
             0.9,
             "#4d9221"
            ],
            [
             1,
             "#276419"
            ]
           ],
           "sequential": [
            [
             0,
             "#0d0887"
            ],
            [
             0.1111111111111111,
             "#46039f"
            ],
            [
             0.2222222222222222,
             "#7201a8"
            ],
            [
             0.3333333333333333,
             "#9c179e"
            ],
            [
             0.4444444444444444,
             "#bd3786"
            ],
            [
             0.5555555555555556,
             "#d8576b"
            ],
            [
             0.6666666666666666,
             "#ed7953"
            ],
            [
             0.7777777777777778,
             "#fb9f3a"
            ],
            [
             0.8888888888888888,
             "#fdca26"
            ],
            [
             1,
             "#f0f921"
            ]
           ],
           "sequentialminus": [
            [
             0,
             "#0d0887"
            ],
            [
             0.1111111111111111,
             "#46039f"
            ],
            [
             0.2222222222222222,
             "#7201a8"
            ],
            [
             0.3333333333333333,
             "#9c179e"
            ],
            [
             0.4444444444444444,
             "#bd3786"
            ],
            [
             0.5555555555555556,
             "#d8576b"
            ],
            [
             0.6666666666666666,
             "#ed7953"
            ],
            [
             0.7777777777777778,
             "#fb9f3a"
            ],
            [
             0.8888888888888888,
             "#fdca26"
            ],
            [
             1,
             "#f0f921"
            ]
           ]
          },
          "colorway": [
           "#636efa",
           "#EF553B",
           "#00cc96",
           "#ab63fa",
           "#FFA15A",
           "#19d3f3",
           "#FF6692",
           "#B6E880",
           "#FF97FF",
           "#FECB52"
          ],
          "font": {
           "color": "#2a3f5f"
          },
          "geo": {
           "bgcolor": "white",
           "lakecolor": "white",
           "landcolor": "#E5ECF6",
           "showlakes": true,
           "showland": true,
           "subunitcolor": "white"
          },
          "hoverlabel": {
           "align": "left"
          },
          "hovermode": "closest",
          "mapbox": {
           "style": "light"
          },
          "paper_bgcolor": "white",
          "plot_bgcolor": "#E5ECF6",
          "polar": {
           "angularaxis": {
            "gridcolor": "white",
            "linecolor": "white",
            "ticks": ""
           },
           "bgcolor": "#E5ECF6",
           "radialaxis": {
            "gridcolor": "white",
            "linecolor": "white",
            "ticks": ""
           }
          },
          "scene": {
           "xaxis": {
            "backgroundcolor": "#E5ECF6",
            "gridcolor": "white",
            "gridwidth": 2,
            "linecolor": "white",
            "showbackground": true,
            "ticks": "",
            "zerolinecolor": "white"
           },
           "yaxis": {
            "backgroundcolor": "#E5ECF6",
            "gridcolor": "white",
            "gridwidth": 2,
            "linecolor": "white",
            "showbackground": true,
            "ticks": "",
            "zerolinecolor": "white"
           },
           "zaxis": {
            "backgroundcolor": "#E5ECF6",
            "gridcolor": "white",
            "gridwidth": 2,
            "linecolor": "white",
            "showbackground": true,
            "ticks": "",
            "zerolinecolor": "white"
           }
          },
          "shapedefaults": {
           "line": {
            "color": "#2a3f5f"
           }
          },
          "ternary": {
           "aaxis": {
            "gridcolor": "white",
            "linecolor": "white",
            "ticks": ""
           },
           "baxis": {
            "gridcolor": "white",
            "linecolor": "white",
            "ticks": ""
           },
           "bgcolor": "#E5ECF6",
           "caxis": {
            "gridcolor": "white",
            "linecolor": "white",
            "ticks": ""
           }
          },
          "title": {
           "x": 0.05
          },
          "xaxis": {
           "automargin": true,
           "gridcolor": "white",
           "linecolor": "white",
           "ticks": "",
           "title": {
            "standoff": 15
           },
           "zerolinecolor": "white",
           "zerolinewidth": 2
          },
          "yaxis": {
           "automargin": true,
           "gridcolor": "white",
           "linecolor": "white",
           "ticks": "",
           "title": {
            "standoff": 15
           },
           "zerolinecolor": "white",
           "zerolinewidth": 2
          }
         }
        },
        "title": {
         "text": "Time Period: 2022"
        },
        "width": 800
       }
      }
     },
     "metadata": {},
     "output_type": "display_data"
    }
   ],
   "source": [
    "import gustav_figs\n",
    "gustav_figs.generateSankey(df, year = 2022, category_columns = ['År','Virkemidler', 'Område'], is_comparisson=True, comparer_institution=['Københavns Universitet', 'Syddansk Universitet'])"
   ]
  }
 ],
 "metadata": {
  "kernelspec": {
   "display_name": "Python 3.10.2 ('.venv': venv)",
   "language": "python",
   "name": "python3"
  },
  "language_info": {
   "codemirror_mode": {
    "name": "ipython",
    "version": 3
   },
   "file_extension": ".py",
   "mimetype": "text/x-python",
   "name": "python",
   "nbconvert_exporter": "python",
   "pygments_lexer": "ipython3",
   "version": "3.10.2"
  },
  "orig_nbformat": 4,
  "vscode": {
   "interpreter": {
    "hash": "363c5365394a3b35aabcdd9ee49901112bff0ccfe1ac4fc9fffcb89c02e6de68"
   }
  }
 },
 "nbformat": 4,
 "nbformat_minor": 2
}
