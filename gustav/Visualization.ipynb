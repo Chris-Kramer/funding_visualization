{
 "cells": [
  {
   "cell_type": "code",
   "execution_count": 2,
   "metadata": {},
   "outputs": [],
   "source": [
    "# libraries\n",
    "import plotly\n",
    "import warnings\n",
    "import numpy as np\n",
    "import pandas as pd\n",
    "import plotly.express as px\n",
    "import plotly.graph_objects as go\n",
    "\n",
    "warnings.simplefilter(action='ignore', category=FutureWarning) # ignores warnings from pd.append()"
   ]
  },
  {
   "cell_type": "code",
   "execution_count": 3,
   "metadata": {},
   "outputs": [
    {
     "data": {
      "text/html": [
       "<div>\n",
       "<style scoped>\n",
       "    .dataframe tbody tr th:only-of-type {\n",
       "        vertical-align: middle;\n",
       "    }\n",
       "\n",
       "    .dataframe tbody tr th {\n",
       "        vertical-align: top;\n",
       "    }\n",
       "\n",
       "    .dataframe thead th {\n",
       "        text-align: right;\n",
       "    }\n",
       "</style>\n",
       "<table border=\"1\" class=\"dataframe\">\n",
       "  <thead>\n",
       "    <tr style=\"text-align: right;\">\n",
       "      <th></th>\n",
       "      <th>Titel</th>\n",
       "      <th>Bevilliget beløb</th>\n",
       "      <th>Modtager</th>\n",
       "      <th>Institution</th>\n",
       "      <th>Virkemidler</th>\n",
       "      <th>Område</th>\n",
       "      <th>År</th>\n",
       "      <th>Beskrivelse</th>\n",
       "      <th>Region</th>\n",
       "    </tr>\n",
       "  </thead>\n",
       "  <tbody>\n",
       "    <tr>\n",
       "      <th>4385</th>\n",
       "      <td>Enabling Ultra Deep Hydrodesulphurization by N...</td>\n",
       "      <td>10781874</td>\n",
       "      <td>Ib Chorkendorff</td>\n",
       "      <td>Danmarks Tekniske Universitet</td>\n",
       "      <td>Øvrige forskningsprojekter</td>\n",
       "      <td>Teknologi og Produktion</td>\n",
       "      <td>2013</td>\n",
       "      <td>Alle olieprodukter renses i dag for svovl for ...</td>\n",
       "      <td>Region Hovedstaden</td>\n",
       "    </tr>\n",
       "    <tr>\n",
       "      <th>4386</th>\n",
       "      <td>Acute stroke research</td>\n",
       "      <td>717359</td>\n",
       "      <td>Hanne Krarup Christensen</td>\n",
       "      <td>Bispebjerg Hospital, Neurologisk Afdeling</td>\n",
       "      <td>Delestillinger</td>\n",
       "      <td>Sundhed og Sygdom</td>\n",
       "      <td>2013</td>\n",
       "      <td>Aktuelle ansøgning angår frikøb af overlæge Ha...</td>\n",
       "      <td>Region Hovedstaden</td>\n",
       "    </tr>\n",
       "    <tr>\n",
       "      <th>4387</th>\n",
       "      <td>Atherosclerotic cardiovascular disease in HIV-...</td>\n",
       "      <td>764683</td>\n",
       "      <td>Anne-Mette Lebech</td>\n",
       "      <td>Hvidovre Hospital, Infektionsmedicinsk Afdeling</td>\n",
       "      <td>Delestillinger</td>\n",
       "      <td>Sundhed og Sygdom</td>\n",
       "      <td>2013</td>\n",
       "      <td>Behandling af HIV positive patienter med anti-...</td>\n",
       "      <td>Region Hovedstaden</td>\n",
       "    </tr>\n",
       "    <tr>\n",
       "      <th>4388</th>\n",
       "      <td>Epigenetic modulation of mechanisms involved i...</td>\n",
       "      <td>829294</td>\n",
       "      <td>Ole Schmeltz Søgaard</td>\n",
       "      <td>Aarhus Universitetshospital</td>\n",
       "      <td>Delestillinger</td>\n",
       "      <td>Sundhed og Sygdom</td>\n",
       "      <td>2013</td>\n",
       "      <td>HIV infektion behandles i dag med en kombinati...</td>\n",
       "      <td>Region Midtjylland</td>\n",
       "    </tr>\n",
       "    <tr>\n",
       "      <th>4389</th>\n",
       "      <td>Novel mechanisms of insulin resistance and mit...</td>\n",
       "      <td>665923</td>\n",
       "      <td>Kurt Højlund</td>\n",
       "      <td>Odense Universitetshospital, Endokrinologisk A...</td>\n",
       "      <td>Delestillinger</td>\n",
       "      <td>Sundhed og Sygdom</td>\n",
       "      <td>2013</td>\n",
       "      <td>Insulinresistens (IR) i muskelvæv spiller en v...</td>\n",
       "      <td>Region Syddanmark</td>\n",
       "    </tr>\n",
       "  </tbody>\n",
       "</table>\n",
       "</div>"
      ],
      "text/plain": [
       "                                                  Titel  Bevilliget beløb  \\\n",
       "4385  Enabling Ultra Deep Hydrodesulphurization by N...          10781874   \n",
       "4386                              Acute stroke research            717359   \n",
       "4387  Atherosclerotic cardiovascular disease in HIV-...            764683   \n",
       "4388  Epigenetic modulation of mechanisms involved i...            829294   \n",
       "4389  Novel mechanisms of insulin resistance and mit...            665923   \n",
       "\n",
       "                      Modtager  \\\n",
       "4385           Ib Chorkendorff   \n",
       "4386  Hanne Krarup Christensen   \n",
       "4387         Anne-Mette Lebech   \n",
       "4388      Ole Schmeltz Søgaard   \n",
       "4389              Kurt Højlund   \n",
       "\n",
       "                                            Institution  \\\n",
       "4385                      Danmarks Tekniske Universitet   \n",
       "4386          Bispebjerg Hospital, Neurologisk Afdeling   \n",
       "4387    Hvidovre Hospital, Infektionsmedicinsk Afdeling   \n",
       "4388                        Aarhus Universitetshospital   \n",
       "4389  Odense Universitetshospital, Endokrinologisk A...   \n",
       "\n",
       "                     Virkemidler                   Område    År  \\\n",
       "4385  Øvrige forskningsprojekter  Teknologi og Produktion  2013   \n",
       "4386              Delestillinger        Sundhed og Sygdom  2013   \n",
       "4387              Delestillinger        Sundhed og Sygdom  2013   \n",
       "4388              Delestillinger        Sundhed og Sygdom  2013   \n",
       "4389              Delestillinger        Sundhed og Sygdom  2013   \n",
       "\n",
       "                                            Beskrivelse              Region  \n",
       "4385  Alle olieprodukter renses i dag for svovl for ...  Region Hovedstaden  \n",
       "4386  Aktuelle ansøgning angår frikøb af overlæge Ha...  Region Hovedstaden  \n",
       "4387  Behandling af HIV positive patienter med anti-...  Region Hovedstaden  \n",
       "4388  HIV infektion behandles i dag med en kombinati...  Region Midtjylland  \n",
       "4389  Insulinresistens (IR) i muskelvæv spiller en v...   Region Syddanmark  "
      ]
     },
     "execution_count": 3,
     "metadata": {},
     "output_type": "execute_result"
    }
   ],
   "source": [
    "# import csv\n",
    "df = pd.read_csv('dff.csv')\n",
    "df.tail()"
   ]
  },
  {
   "cell_type": "code",
   "execution_count": 4,
   "metadata": {},
   "outputs": [],
   "source": [
    "\n",
    "def generateSankey(df, year, category_columns):\n",
    "    df.tail()\n",
    "\n",
    "    colorpalette = px.colors.qualitative.Plotly\n",
    "\n",
    "    # data for sankey\n",
    "    df = df.loc[df['År'] == year]\n",
    "    df_sankey = df.loc[:,category_columns + ['Bevilliget beløb']]\n",
    "\n",
    "    # create list of labels, i.e. unique values from each column except the values\n",
    "    # create color list\n",
    "    labels = []\n",
    "    colornumlist = []\n",
    "\n",
    "    for col in category_columns:\n",
    "        labels = labels + list(set(df_sankey[col].values)) # adds unique labels in each category to list\n",
    "        colornumlist.append(len(list(set(df_sankey[col].values)))) # appends number of unique labels for each category\n",
    "\n",
    "    # define colors based on number of categories\n",
    "    colorList = []\n",
    "    for idx, colorNum in enumerate(colornumlist):\n",
    "        colorList = colorList + [colorpalette[idx]]*colorNum\n",
    "\n",
    "    # initiate input for for loop\n",
    "    df_link_input = pd.DataFrame({'source' : [], 'target': [], 'count': []})\n",
    "\n",
    "    # create data for go.Sankey function\n",
    "    for i in range(len(category_columns)-1):\n",
    "        if len(category_columns) == 1:\n",
    "            print(\"Number of input categories must be at least 2\")\n",
    "        else:\n",
    "            temporary_df = df_sankey.groupby([category_columns[i], category_columns[i+1]]).agg({'Bevilliget beløb':'sum'}).reset_index() # loop over columns and group by column to the right, i.e. 'År' and 'Virkemidler', and then 'Virkemidler' and 'Område'\n",
    "            temporary_df.columns = ['source','target','count']\n",
    "            df_link_input = df_link_input.append(temporary_df)\n",
    "\n",
    "    # add index for source-target pair\n",
    "    df_link_input['sourceID'] = df_link_input['source'].apply(lambda x: labels.index(x))\n",
    "    df_link_input['targetID'] = df_link_input['target'].apply(lambda x: labels.index(x))\n",
    "\n",
    "    # creating the sankey diagram\n",
    "    fig = go.Figure(data=[go.Sankey(\n",
    "        valueformat = \",\",\n",
    "        valuesuffix = \" kr.\",\n",
    "        # define nodes\n",
    "        node = dict(\n",
    "            pad = 15,\n",
    "            thickness = 20,\n",
    "            line = dict(color = \"black\", width = 0.5),\n",
    "            label = labels,\n",
    "            color = colorList\n",
    "            ),\n",
    "        link = dict(\n",
    "            source = df_link_input['sourceID'], # indices correspond to labels, e.g. '2022', 'Forskningsprojekt 1', 'Forskningsprojekt 2', ...\n",
    "            target = df_link_input['targetID'],\n",
    "            value = df_link_input['count']\n",
    "        ))])\n",
    "\n",
    "    fig.update_layout(title_text=\"Funding of Research Grants in \" + str(year) + \"<br>Source: <a href='https://dff.dk/'>Danmarks Frie Forskningsfond</a>\",\n",
    "                        font_size=10)\n",
    "    fig.show()"
   ]
  },
  {
   "cell_type": "code",
   "execution_count": 5,
   "metadata": {},
   "outputs": [
    {
     "data": {
      "application/vnd.plotly.v1+json": {
       "config": {
        "plotlyServerURL": "https://plot.ly"
       },
       "data": [
        {
         "link": {
          "source": [
           0,
           0,
           0,
           0,
           0,
           0,
           0,
           0,
           1,
           1,
           6,
           8,
           2,
           2,
           2,
           2,
           2,
           7,
           7,
           7,
           7,
           7,
           7,
           5,
           3,
           3,
           3,
           3,
           3,
           4
          ],
          "target": [
           1,
           6,
           8,
           2,
           7,
           5,
           3,
           4,
           13,
           10,
           15,
           12,
           14,
           17,
           12,
           9,
           16,
           14,
           17,
           12,
           9,
           16,
           15,
           11,
           14,
           17,
           12,
           9,
           16,
           9
          ],
          "value": [
           231170636,
           23056874,
           424800,
           431130387,
           317232037,
           78070349,
           33424131,
           1235500,
           105353345,
           125817291,
           23056874,
           424800,
           28499591,
           127630884,
           31244915,
           135019070,
           108735927,
           72730844,
           60300783,
           35772741,
           37487162,
           92430343,
           18510164,
           78070349,
           8143670,
           5431798,
           7780844,
           3992672,
           8075147,
           1235500
          ]
         },
         "node": {
          "color": [
           "#636EFA",
           "#EF553B",
           "#EF553B",
           "#EF553B",
           "#EF553B",
           "#EF553B",
           "#EF553B",
           "#EF553B",
           "#EF553B",
           "#00CC96",
           "#00CC96",
           "#00CC96",
           "#00CC96",
           "#00CC96",
           "#00CC96",
           "#00CC96",
           "#00CC96",
           "#00CC96"
          ],
          "label": [
           2022,
           "DFF-Forskningsprojekt 1 (tematisk forskning)",
           "Forskningsprojekt 1",
           "International postdoc",
           "Skolarstipendier » Forår",
           "Inge Lehmann",
           "Forskeruddannelse uden for universiteterne",
           "Forskningsprojekt 2",
           "Forskningsophold i udlandet » Forår",
           "Sundhed og Sygdom",
           "Tematisk » Styrket klinisk og uafhængig forskning",
           "Tematisk",
           "Samfund og Erhverv",
           "Tematisk » Grøn forskning",
           "Kultur og Kommunikation",
           "Tværrådslig",
           "Teknologi og Produktion",
           "Natur og Univers"
          ],
          "line": {
           "color": "black",
           "width": 0.5
          },
          "pad": 15,
          "thickness": 20
         },
         "type": "sankey",
         "valueformat": ",",
         "valuesuffix": " kr."
        }
       ],
       "layout": {
        "font": {
         "size": 10
        },
        "template": {
         "data": {
          "bar": [
           {
            "error_x": {
             "color": "#2a3f5f"
            },
            "error_y": {
             "color": "#2a3f5f"
            },
            "marker": {
             "line": {
              "color": "#E5ECF6",
              "width": 0.5
             },
             "pattern": {
              "fillmode": "overlay",
              "size": 10,
              "solidity": 0.2
             }
            },
            "type": "bar"
           }
          ],
          "barpolar": [
           {
            "marker": {
             "line": {
              "color": "#E5ECF6",
              "width": 0.5
             },
             "pattern": {
              "fillmode": "overlay",
              "size": 10,
              "solidity": 0.2
             }
            },
            "type": "barpolar"
           }
          ],
          "carpet": [
           {
            "aaxis": {
             "endlinecolor": "#2a3f5f",
             "gridcolor": "white",
             "linecolor": "white",
             "minorgridcolor": "white",
             "startlinecolor": "#2a3f5f"
            },
            "baxis": {
             "endlinecolor": "#2a3f5f",
             "gridcolor": "white",
             "linecolor": "white",
             "minorgridcolor": "white",
             "startlinecolor": "#2a3f5f"
            },
            "type": "carpet"
           }
          ],
          "choropleth": [
           {
            "colorbar": {
             "outlinewidth": 0,
             "ticks": ""
            },
            "type": "choropleth"
           }
          ],
          "contour": [
           {
            "colorbar": {
             "outlinewidth": 0,
             "ticks": ""
            },
            "colorscale": [
             [
              0,
              "#0d0887"
             ],
             [
              0.1111111111111111,
              "#46039f"
             ],
             [
              0.2222222222222222,
              "#7201a8"
             ],
             [
              0.3333333333333333,
              "#9c179e"
             ],
             [
              0.4444444444444444,
              "#bd3786"
             ],
             [
              0.5555555555555556,
              "#d8576b"
             ],
             [
              0.6666666666666666,
              "#ed7953"
             ],
             [
              0.7777777777777778,
              "#fb9f3a"
             ],
             [
              0.8888888888888888,
              "#fdca26"
             ],
             [
              1,
              "#f0f921"
             ]
            ],
            "type": "contour"
           }
          ],
          "contourcarpet": [
           {
            "colorbar": {
             "outlinewidth": 0,
             "ticks": ""
            },
            "type": "contourcarpet"
           }
          ],
          "heatmap": [
           {
            "colorbar": {
             "outlinewidth": 0,
             "ticks": ""
            },
            "colorscale": [
             [
              0,
              "#0d0887"
             ],
             [
              0.1111111111111111,
              "#46039f"
             ],
             [
              0.2222222222222222,
              "#7201a8"
             ],
             [
              0.3333333333333333,
              "#9c179e"
             ],
             [
              0.4444444444444444,
              "#bd3786"
             ],
             [
              0.5555555555555556,
              "#d8576b"
             ],
             [
              0.6666666666666666,
              "#ed7953"
             ],
             [
              0.7777777777777778,
              "#fb9f3a"
             ],
             [
              0.8888888888888888,
              "#fdca26"
             ],
             [
              1,
              "#f0f921"
             ]
            ],
            "type": "heatmap"
           }
          ],
          "heatmapgl": [
           {
            "colorbar": {
             "outlinewidth": 0,
             "ticks": ""
            },
            "colorscale": [
             [
              0,
              "#0d0887"
             ],
             [
              0.1111111111111111,
              "#46039f"
             ],
             [
              0.2222222222222222,
              "#7201a8"
             ],
             [
              0.3333333333333333,
              "#9c179e"
             ],
             [
              0.4444444444444444,
              "#bd3786"
             ],
             [
              0.5555555555555556,
              "#d8576b"
             ],
             [
              0.6666666666666666,
              "#ed7953"
             ],
             [
              0.7777777777777778,
              "#fb9f3a"
             ],
             [
              0.8888888888888888,
              "#fdca26"
             ],
             [
              1,
              "#f0f921"
             ]
            ],
            "type": "heatmapgl"
           }
          ],
          "histogram": [
           {
            "marker": {
             "pattern": {
              "fillmode": "overlay",
              "size": 10,
              "solidity": 0.2
             }
            },
            "type": "histogram"
           }
          ],
          "histogram2d": [
           {
            "colorbar": {
             "outlinewidth": 0,
             "ticks": ""
            },
            "colorscale": [
             [
              0,
              "#0d0887"
             ],
             [
              0.1111111111111111,
              "#46039f"
             ],
             [
              0.2222222222222222,
              "#7201a8"
             ],
             [
              0.3333333333333333,
              "#9c179e"
             ],
             [
              0.4444444444444444,
              "#bd3786"
             ],
             [
              0.5555555555555556,
              "#d8576b"
             ],
             [
              0.6666666666666666,
              "#ed7953"
             ],
             [
              0.7777777777777778,
              "#fb9f3a"
             ],
             [
              0.8888888888888888,
              "#fdca26"
             ],
             [
              1,
              "#f0f921"
             ]
            ],
            "type": "histogram2d"
           }
          ],
          "histogram2dcontour": [
           {
            "colorbar": {
             "outlinewidth": 0,
             "ticks": ""
            },
            "colorscale": [
             [
              0,
              "#0d0887"
             ],
             [
              0.1111111111111111,
              "#46039f"
             ],
             [
              0.2222222222222222,
              "#7201a8"
             ],
             [
              0.3333333333333333,
              "#9c179e"
             ],
             [
              0.4444444444444444,
              "#bd3786"
             ],
             [
              0.5555555555555556,
              "#d8576b"
             ],
             [
              0.6666666666666666,
              "#ed7953"
             ],
             [
              0.7777777777777778,
              "#fb9f3a"
             ],
             [
              0.8888888888888888,
              "#fdca26"
             ],
             [
              1,
              "#f0f921"
             ]
            ],
            "type": "histogram2dcontour"
           }
          ],
          "mesh3d": [
           {
            "colorbar": {
             "outlinewidth": 0,
             "ticks": ""
            },
            "type": "mesh3d"
           }
          ],
          "parcoords": [
           {
            "line": {
             "colorbar": {
              "outlinewidth": 0,
              "ticks": ""
             }
            },
            "type": "parcoords"
           }
          ],
          "pie": [
           {
            "automargin": true,
            "type": "pie"
           }
          ],
          "scatter": [
           {
            "fillpattern": {
             "fillmode": "overlay",
             "size": 10,
             "solidity": 0.2
            },
            "type": "scatter"
           }
          ],
          "scatter3d": [
           {
            "line": {
             "colorbar": {
              "outlinewidth": 0,
              "ticks": ""
             }
            },
            "marker": {
             "colorbar": {
              "outlinewidth": 0,
              "ticks": ""
             }
            },
            "type": "scatter3d"
           }
          ],
          "scattercarpet": [
           {
            "marker": {
             "colorbar": {
              "outlinewidth": 0,
              "ticks": ""
             }
            },
            "type": "scattercarpet"
           }
          ],
          "scattergeo": [
           {
            "marker": {
             "colorbar": {
              "outlinewidth": 0,
              "ticks": ""
             }
            },
            "type": "scattergeo"
           }
          ],
          "scattergl": [
           {
            "marker": {
             "colorbar": {
              "outlinewidth": 0,
              "ticks": ""
             }
            },
            "type": "scattergl"
           }
          ],
          "scattermapbox": [
           {
            "marker": {
             "colorbar": {
              "outlinewidth": 0,
              "ticks": ""
             }
            },
            "type": "scattermapbox"
           }
          ],
          "scatterpolar": [
           {
            "marker": {
             "colorbar": {
              "outlinewidth": 0,
              "ticks": ""
             }
            },
            "type": "scatterpolar"
           }
          ],
          "scatterpolargl": [
           {
            "marker": {
             "colorbar": {
              "outlinewidth": 0,
              "ticks": ""
             }
            },
            "type": "scatterpolargl"
           }
          ],
          "scatterternary": [
           {
            "marker": {
             "colorbar": {
              "outlinewidth": 0,
              "ticks": ""
             }
            },
            "type": "scatterternary"
           }
          ],
          "surface": [
           {
            "colorbar": {
             "outlinewidth": 0,
             "ticks": ""
            },
            "colorscale": [
             [
              0,
              "#0d0887"
             ],
             [
              0.1111111111111111,
              "#46039f"
             ],
             [
              0.2222222222222222,
              "#7201a8"
             ],
             [
              0.3333333333333333,
              "#9c179e"
             ],
             [
              0.4444444444444444,
              "#bd3786"
             ],
             [
              0.5555555555555556,
              "#d8576b"
             ],
             [
              0.6666666666666666,
              "#ed7953"
             ],
             [
              0.7777777777777778,
              "#fb9f3a"
             ],
             [
              0.8888888888888888,
              "#fdca26"
             ],
             [
              1,
              "#f0f921"
             ]
            ],
            "type": "surface"
           }
          ],
          "table": [
           {
            "cells": {
             "fill": {
              "color": "#EBF0F8"
             },
             "line": {
              "color": "white"
             }
            },
            "header": {
             "fill": {
              "color": "#C8D4E3"
             },
             "line": {
              "color": "white"
             }
            },
            "type": "table"
           }
          ]
         },
         "layout": {
          "annotationdefaults": {
           "arrowcolor": "#2a3f5f",
           "arrowhead": 0,
           "arrowwidth": 1
          },
          "autotypenumbers": "strict",
          "coloraxis": {
           "colorbar": {
            "outlinewidth": 0,
            "ticks": ""
           }
          },
          "colorscale": {
           "diverging": [
            [
             0,
             "#8e0152"
            ],
            [
             0.1,
             "#c51b7d"
            ],
            [
             0.2,
             "#de77ae"
            ],
            [
             0.3,
             "#f1b6da"
            ],
            [
             0.4,
             "#fde0ef"
            ],
            [
             0.5,
             "#f7f7f7"
            ],
            [
             0.6,
             "#e6f5d0"
            ],
            [
             0.7,
             "#b8e186"
            ],
            [
             0.8,
             "#7fbc41"
            ],
            [
             0.9,
             "#4d9221"
            ],
            [
             1,
             "#276419"
            ]
           ],
           "sequential": [
            [
             0,
             "#0d0887"
            ],
            [
             0.1111111111111111,
             "#46039f"
            ],
            [
             0.2222222222222222,
             "#7201a8"
            ],
            [
             0.3333333333333333,
             "#9c179e"
            ],
            [
             0.4444444444444444,
             "#bd3786"
            ],
            [
             0.5555555555555556,
             "#d8576b"
            ],
            [
             0.6666666666666666,
             "#ed7953"
            ],
            [
             0.7777777777777778,
             "#fb9f3a"
            ],
            [
             0.8888888888888888,
             "#fdca26"
            ],
            [
             1,
             "#f0f921"
            ]
           ],
           "sequentialminus": [
            [
             0,
             "#0d0887"
            ],
            [
             0.1111111111111111,
             "#46039f"
            ],
            [
             0.2222222222222222,
             "#7201a8"
            ],
            [
             0.3333333333333333,
             "#9c179e"
            ],
            [
             0.4444444444444444,
             "#bd3786"
            ],
            [
             0.5555555555555556,
             "#d8576b"
            ],
            [
             0.6666666666666666,
             "#ed7953"
            ],
            [
             0.7777777777777778,
             "#fb9f3a"
            ],
            [
             0.8888888888888888,
             "#fdca26"
            ],
            [
             1,
             "#f0f921"
            ]
           ]
          },
          "colorway": [
           "#636efa",
           "#EF553B",
           "#00cc96",
           "#ab63fa",
           "#FFA15A",
           "#19d3f3",
           "#FF6692",
           "#B6E880",
           "#FF97FF",
           "#FECB52"
          ],
          "font": {
           "color": "#2a3f5f"
          },
          "geo": {
           "bgcolor": "white",
           "lakecolor": "white",
           "landcolor": "#E5ECF6",
           "showlakes": true,
           "showland": true,
           "subunitcolor": "white"
          },
          "hoverlabel": {
           "align": "left"
          },
          "hovermode": "closest",
          "mapbox": {
           "style": "light"
          },
          "paper_bgcolor": "white",
          "plot_bgcolor": "#E5ECF6",
          "polar": {
           "angularaxis": {
            "gridcolor": "white",
            "linecolor": "white",
            "ticks": ""
           },
           "bgcolor": "#E5ECF6",
           "radialaxis": {
            "gridcolor": "white",
            "linecolor": "white",
            "ticks": ""
           }
          },
          "scene": {
           "xaxis": {
            "backgroundcolor": "#E5ECF6",
            "gridcolor": "white",
            "gridwidth": 2,
            "linecolor": "white",
            "showbackground": true,
            "ticks": "",
            "zerolinecolor": "white"
           },
           "yaxis": {
            "backgroundcolor": "#E5ECF6",
            "gridcolor": "white",
            "gridwidth": 2,
            "linecolor": "white",
            "showbackground": true,
            "ticks": "",
            "zerolinecolor": "white"
           },
           "zaxis": {
            "backgroundcolor": "#E5ECF6",
            "gridcolor": "white",
            "gridwidth": 2,
            "linecolor": "white",
            "showbackground": true,
            "ticks": "",
            "zerolinecolor": "white"
           }
          },
          "shapedefaults": {
           "line": {
            "color": "#2a3f5f"
           }
          },
          "ternary": {
           "aaxis": {
            "gridcolor": "white",
            "linecolor": "white",
            "ticks": ""
           },
           "baxis": {
            "gridcolor": "white",
            "linecolor": "white",
            "ticks": ""
           },
           "bgcolor": "#E5ECF6",
           "caxis": {
            "gridcolor": "white",
            "linecolor": "white",
            "ticks": ""
           }
          },
          "title": {
           "x": 0.05
          },
          "xaxis": {
           "automargin": true,
           "gridcolor": "white",
           "linecolor": "white",
           "ticks": "",
           "title": {
            "standoff": 15
           },
           "zerolinecolor": "white",
           "zerolinewidth": 2
          },
          "yaxis": {
           "automargin": true,
           "gridcolor": "white",
           "linecolor": "white",
           "ticks": "",
           "title": {
            "standoff": 15
           },
           "zerolinecolor": "white",
           "zerolinewidth": 2
          }
         }
        },
        "title": {
         "text": "Funding of Research Grants in 2022<br>Source: <a href='https://dff.dk/'>Danmarks Frie Forskningsfond</a>"
        }
       }
      }
     },
     "metadata": {},
     "output_type": "display_data"
    }
   ],
   "source": [
    "\n",
    "# NODES UDE TIL HØJRE SKAL SORTERES I FALDENDE ORDEN\n",
    "\n",
    "# plotting sankey diagram\n",
    "generateSankey(df, year = 2022, category_columns = ['År','Virkemidler', 'Område'])"
   ]
  }
 ],
 "metadata": {
  "kernelspec": {
   "display_name": "Python 3.10.1 64-bit",
   "language": "python",
   "name": "python3"
  },
  "language_info": {
   "codemirror_mode": {
    "name": "ipython",
    "version": 3
   },
   "file_extension": ".py",
   "mimetype": "text/x-python",
   "name": "python",
   "nbconvert_exporter": "python",
   "pygments_lexer": "ipython3",
   "version": "3.10.1"
  },
  "orig_nbformat": 4,
  "vscode": {
   "interpreter": {
    "hash": "e008f49cf07b1b250fc62b761173fdb635eda2b6423a39aacdc9e46c6a4e9457"
   }
  }
 },
 "nbformat": 4,
 "nbformat_minor": 2
}
