{
 "cells": [
  {
   "cell_type": "code",
   "execution_count": 10,
   "metadata": {},
   "outputs": [],
   "source": [
    "# libraries\n",
    "import plotly\n",
    "import numpy as np\n",
    "import pandas as pd\n",
    "import plotly.express as px\n",
    "import plotly.graph_objects as go"
   ]
  },
  {
   "cell_type": "code",
   "execution_count": 11,
   "metadata": {},
   "outputs": [
    {
     "data": {
      "text/html": [
       "<div>\n",
       "<style scoped>\n",
       "    .dataframe tbody tr th:only-of-type {\n",
       "        vertical-align: middle;\n",
       "    }\n",
       "\n",
       "    .dataframe tbody tr th {\n",
       "        vertical-align: top;\n",
       "    }\n",
       "\n",
       "    .dataframe thead th {\n",
       "        text-align: right;\n",
       "    }\n",
       "</style>\n",
       "<table border=\"1\" class=\"dataframe\">\n",
       "  <thead>\n",
       "    <tr style=\"text-align: right;\">\n",
       "      <th></th>\n",
       "      <th>Titel</th>\n",
       "      <th>Bevilliget beløb</th>\n",
       "      <th>Modtager</th>\n",
       "      <th>Institution</th>\n",
       "      <th>Virkemidler</th>\n",
       "      <th>Område</th>\n",
       "      <th>År</th>\n",
       "      <th>Beskrivelse</th>\n",
       "      <th>Region</th>\n",
       "    </tr>\n",
       "  </thead>\n",
       "  <tbody>\n",
       "    <tr>\n",
       "      <th>4385</th>\n",
       "      <td>Enabling Ultra Deep Hydrodesulphurization by N...</td>\n",
       "      <td>10781874</td>\n",
       "      <td>Ib Chorkendorff</td>\n",
       "      <td>Danmarks Tekniske Universitet</td>\n",
       "      <td>Øvrige forskningsprojekter</td>\n",
       "      <td>Teknologi og Produktion</td>\n",
       "      <td>2013</td>\n",
       "      <td>Alle olieprodukter renses i dag for svovl for ...</td>\n",
       "      <td>Region Hovedstaden</td>\n",
       "    </tr>\n",
       "    <tr>\n",
       "      <th>4386</th>\n",
       "      <td>Acute stroke research</td>\n",
       "      <td>717359</td>\n",
       "      <td>Hanne Krarup Christensen</td>\n",
       "      <td>Bispebjerg Hospital, Neurologisk Afdeling</td>\n",
       "      <td>Delestillinger</td>\n",
       "      <td>Sundhed og Sygdom</td>\n",
       "      <td>2013</td>\n",
       "      <td>Aktuelle ansøgning angår frikøb af overlæge Ha...</td>\n",
       "      <td>Region Hovedstaden</td>\n",
       "    </tr>\n",
       "    <tr>\n",
       "      <th>4387</th>\n",
       "      <td>Atherosclerotic cardiovascular disease in HIV-...</td>\n",
       "      <td>764683</td>\n",
       "      <td>Anne-Mette Lebech</td>\n",
       "      <td>Hvidovre Hospital, Infektionsmedicinsk Afdeling</td>\n",
       "      <td>Delestillinger</td>\n",
       "      <td>Sundhed og Sygdom</td>\n",
       "      <td>2013</td>\n",
       "      <td>Behandling af HIV positive patienter med anti-...</td>\n",
       "      <td>Region Hovedstaden</td>\n",
       "    </tr>\n",
       "    <tr>\n",
       "      <th>4388</th>\n",
       "      <td>Epigenetic modulation of mechanisms involved i...</td>\n",
       "      <td>829294</td>\n",
       "      <td>Ole Schmeltz Søgaard</td>\n",
       "      <td>Aarhus Universitetshospital</td>\n",
       "      <td>Delestillinger</td>\n",
       "      <td>Sundhed og Sygdom</td>\n",
       "      <td>2013</td>\n",
       "      <td>HIV infektion behandles i dag med en kombinati...</td>\n",
       "      <td>Region Midtjylland</td>\n",
       "    </tr>\n",
       "    <tr>\n",
       "      <th>4389</th>\n",
       "      <td>Novel mechanisms of insulin resistance and mit...</td>\n",
       "      <td>665923</td>\n",
       "      <td>Kurt Højlund</td>\n",
       "      <td>Odense Universitetshospital, Endokrinologisk A...</td>\n",
       "      <td>Delestillinger</td>\n",
       "      <td>Sundhed og Sygdom</td>\n",
       "      <td>2013</td>\n",
       "      <td>Insulinresistens (IR) i muskelvæv spiller en v...</td>\n",
       "      <td>Region Syddanmark</td>\n",
       "    </tr>\n",
       "  </tbody>\n",
       "</table>\n",
       "</div>"
      ],
      "text/plain": [
       "                                                  Titel  Bevilliget beløb  \\\n",
       "4385  Enabling Ultra Deep Hydrodesulphurization by N...          10781874   \n",
       "4386                              Acute stroke research            717359   \n",
       "4387  Atherosclerotic cardiovascular disease in HIV-...            764683   \n",
       "4388  Epigenetic modulation of mechanisms involved i...            829294   \n",
       "4389  Novel mechanisms of insulin resistance and mit...            665923   \n",
       "\n",
       "                      Modtager  \\\n",
       "4385           Ib Chorkendorff   \n",
       "4386  Hanne Krarup Christensen   \n",
       "4387         Anne-Mette Lebech   \n",
       "4388      Ole Schmeltz Søgaard   \n",
       "4389              Kurt Højlund   \n",
       "\n",
       "                                            Institution  \\\n",
       "4385                      Danmarks Tekniske Universitet   \n",
       "4386          Bispebjerg Hospital, Neurologisk Afdeling   \n",
       "4387    Hvidovre Hospital, Infektionsmedicinsk Afdeling   \n",
       "4388                        Aarhus Universitetshospital   \n",
       "4389  Odense Universitetshospital, Endokrinologisk A...   \n",
       "\n",
       "                     Virkemidler                   Område    År  \\\n",
       "4385  Øvrige forskningsprojekter  Teknologi og Produktion  2013   \n",
       "4386              Delestillinger        Sundhed og Sygdom  2013   \n",
       "4387              Delestillinger        Sundhed og Sygdom  2013   \n",
       "4388              Delestillinger        Sundhed og Sygdom  2013   \n",
       "4389              Delestillinger        Sundhed og Sygdom  2013   \n",
       "\n",
       "                                            Beskrivelse              Region  \n",
       "4385  Alle olieprodukter renses i dag for svovl for ...  Region Hovedstaden  \n",
       "4386  Aktuelle ansøgning angår frikøb af overlæge Ha...  Region Hovedstaden  \n",
       "4387  Behandling af HIV positive patienter med anti-...  Region Hovedstaden  \n",
       "4388  HIV infektion behandles i dag med en kombinati...  Region Midtjylland  \n",
       "4389  Insulinresistens (IR) i muskelvæv spiller en v...   Region Syddanmark  "
      ]
     },
     "execution_count": 11,
     "metadata": {},
     "output_type": "execute_result"
    }
   ],
   "source": [
    "# import csv\n",
    "df = pd.read_csv('dff.csv')\n",
    "df.tail()"
   ]
  },
  {
   "cell_type": "code",
   "execution_count": 114,
   "metadata": {},
   "outputs": [
    {
     "data": {
      "text/html": [
       "<div>\n",
       "<style scoped>\n",
       "    .dataframe tbody tr th:only-of-type {\n",
       "        vertical-align: middle;\n",
       "    }\n",
       "\n",
       "    .dataframe tbody tr th {\n",
       "        vertical-align: top;\n",
       "    }\n",
       "\n",
       "    .dataframe thead th {\n",
       "        text-align: right;\n",
       "    }\n",
       "</style>\n",
       "<table border=\"1\" class=\"dataframe\">\n",
       "  <thead>\n",
       "    <tr style=\"text-align: right;\">\n",
       "      <th></th>\n",
       "      <th>År</th>\n",
       "      <th>Virkemidler</th>\n",
       "      <th>Region</th>\n",
       "      <th>Område</th>\n",
       "      <th>Bevilliget beløb</th>\n",
       "    </tr>\n",
       "  </thead>\n",
       "  <tbody>\n",
       "    <tr>\n",
       "      <th>0</th>\n",
       "      <td>2013</td>\n",
       "      <td>Delestillinger</td>\n",
       "      <td>Region Hovedstaden</td>\n",
       "      <td>Sundhed og Sygdom</td>\n",
       "      <td>1482042</td>\n",
       "    </tr>\n",
       "    <tr>\n",
       "      <th>1</th>\n",
       "      <td>2013</td>\n",
       "      <td>Delestillinger</td>\n",
       "      <td>Region Midtjylland</td>\n",
       "      <td>Sundhed og Sygdom</td>\n",
       "      <td>829294</td>\n",
       "    </tr>\n",
       "    <tr>\n",
       "      <th>2</th>\n",
       "      <td>2013</td>\n",
       "      <td>Delestillinger</td>\n",
       "      <td>Region Syddanmark</td>\n",
       "      <td>Sundhed og Sygdom</td>\n",
       "      <td>665923</td>\n",
       "    </tr>\n",
       "    <tr>\n",
       "      <th>3</th>\n",
       "      <td>2013</td>\n",
       "      <td>Forskernetværk</td>\n",
       "      <td>Region Hovedstaden</td>\n",
       "      <td>Kultur og Kommunikation</td>\n",
       "      <td>964532</td>\n",
       "    </tr>\n",
       "    <tr>\n",
       "      <th>4</th>\n",
       "      <td>2013</td>\n",
       "      <td>Forskernetværk</td>\n",
       "      <td>Region Midtjylland</td>\n",
       "      <td>Kultur og Kommunikation</td>\n",
       "      <td>2014445</td>\n",
       "    </tr>\n",
       "    <tr>\n",
       "      <th>...</th>\n",
       "      <td>...</td>\n",
       "      <td>...</td>\n",
       "      <td>...</td>\n",
       "      <td>...</td>\n",
       "      <td>...</td>\n",
       "    </tr>\n",
       "    <tr>\n",
       "      <th>866</th>\n",
       "      <td>2022</td>\n",
       "      <td>International postdoc</td>\n",
       "      <td>Region Midtjylland</td>\n",
       "      <td>Kultur og Kommunikation</td>\n",
       "      <td>5962070</td>\n",
       "    </tr>\n",
       "    <tr>\n",
       "      <th>867</th>\n",
       "      <td>2022</td>\n",
       "      <td>International postdoc</td>\n",
       "      <td>Region Midtjylland</td>\n",
       "      <td>Sundhed og Sygdom</td>\n",
       "      <td>2056429</td>\n",
       "    </tr>\n",
       "    <tr>\n",
       "      <th>868</th>\n",
       "      <td>2022</td>\n",
       "      <td>International postdoc</td>\n",
       "      <td>Region Sjælland</td>\n",
       "      <td>Kultur og Kommunikation</td>\n",
       "      <td>2181600</td>\n",
       "    </tr>\n",
       "    <tr>\n",
       "      <th>869</th>\n",
       "      <td>2022</td>\n",
       "      <td>Skolarstipendier » Forår</td>\n",
       "      <td>Region Hovedstaden</td>\n",
       "      <td>Sundhed og Sygdom</td>\n",
       "      <td>206200</td>\n",
       "    </tr>\n",
       "    <tr>\n",
       "      <th>870</th>\n",
       "      <td>2022</td>\n",
       "      <td>Skolarstipendier » Forår</td>\n",
       "      <td>Region Midtjylland</td>\n",
       "      <td>Sundhed og Sygdom</td>\n",
       "      <td>1029300</td>\n",
       "    </tr>\n",
       "  </tbody>\n",
       "</table>\n",
       "<p>871 rows × 5 columns</p>\n",
       "</div>"
      ],
      "text/plain": [
       "       År               Virkemidler              Region  \\\n",
       "0    2013            Delestillinger  Region Hovedstaden   \n",
       "1    2013            Delestillinger  Region Midtjylland   \n",
       "2    2013            Delestillinger   Region Syddanmark   \n",
       "3    2013            Forskernetværk  Region Hovedstaden   \n",
       "4    2013            Forskernetværk  Region Midtjylland   \n",
       "..    ...                       ...                 ...   \n",
       "866  2022     International postdoc  Region Midtjylland   \n",
       "867  2022     International postdoc  Region Midtjylland   \n",
       "868  2022     International postdoc     Region Sjælland   \n",
       "869  2022  Skolarstipendier » Forår  Region Hovedstaden   \n",
       "870  2022  Skolarstipendier » Forår  Region Midtjylland   \n",
       "\n",
       "                      Område  Bevilliget beløb  \n",
       "0          Sundhed og Sygdom           1482042  \n",
       "1          Sundhed og Sygdom            829294  \n",
       "2          Sundhed og Sygdom            665923  \n",
       "3    Kultur og Kommunikation            964532  \n",
       "4    Kultur og Kommunikation           2014445  \n",
       "..                       ...               ...  \n",
       "866  Kultur og Kommunikation           5962070  \n",
       "867        Sundhed og Sygdom           2056429  \n",
       "868  Kultur og Kommunikation           2181600  \n",
       "869        Sundhed og Sygdom            206200  \n",
       "870        Sundhed og Sygdom           1029300  \n",
       "\n",
       "[871 rows x 5 columns]"
      ]
     },
     "execution_count": 114,
     "metadata": {},
     "output_type": "execute_result"
    }
   ],
   "source": [
    "# data for sankey plot\n",
    "gk = df.groupby(['År','Virkemidler','Region', 'Område']).agg({'Bevilliget beløb':'sum'})\n",
    "gk = gk.reset_index()\n",
    "gk"
   ]
  },
  {
   "cell_type": "code",
   "execution_count": 166,
   "metadata": {},
   "outputs": [
    {
     "name": "stderr",
     "output_type": "stream",
     "text": [
      "C:\\Users\\gusta\\AppData\\Local\\Temp\\ipykernel_18116\\706434940.py:22: FutureWarning:\n",
      "\n",
      "The frame.append method is deprecated and will be removed from pandas in a future version. Use pandas.concat instead.\n",
      "\n"
     ]
    }
   ],
   "source": [
    "# data for sankey\n",
    "df_sankey = gk[gk.År == 2021]\n",
    "\n",
    "# create list of labels, i.e. unique values from each column except the values\n",
    "labels = []\n",
    "\n",
    "for col in df_sankey.loc[:, df_sankey.columns != 'Bevilliget beløb']:\n",
    "    labels = labels + (list(set(df_sankey[col].values)))\n",
    "\n",
    "# initiate input for for loop\n",
    "category_columns = ['År', 'Virkemidler'] # len should be at least to, otherwise data cannot flow from category 1 to category 2.\n",
    "value_column = 'Bevilliget beløb'\n",
    "df_link_input = pd.DataFrame({'source' : [], 'target': [], 'count': []})\n",
    "\n",
    "# create data for go.Sankey function\n",
    "for i in range(len(category_columns)-1):\n",
    "    if len(category_columns) == 1:\n",
    "        print(\"Number of input categories must be at least 2\")\n",
    "    else:\n",
    "        temporary_df = df_sankey.groupby([category_columns[i], category_columns[i+1]]).agg({value_column:'sum'}).reset_index() # loop over columns and group by column to the right, i.e. 'År' and 'Virkemidler', and then 'Virkemidler' and 'Område'\n",
    "        temporary_df.columns = ['source','target','count']\n",
    "        df_link_input = df_link_input.append(temporary_df)\n",
    "\n",
    "# add index for source-target pair\n",
    "df_link_input['sourceID'] = df_link_input['source'].apply(lambda x: labels.index(x))\n",
    "df_link_input['targetID'] = df_link_input['target'].apply(lambda x: labels.index(x))\n",
    "\n",
    "\"hej1\""
   ]
  },
  {
   "cell_type": "code",
   "execution_count": 167,
   "metadata": {},
   "outputs": [
    {
     "data": {
      "application/vnd.plotly.v1+json": {
       "config": {
        "plotlyServerURL": "https://plot.ly"
       },
       "data": [
        {
         "link": {
          "source": [
           0,
           0,
           0,
           0,
           0,
           0,
           0,
           0,
           0,
           0,
           0,
           0,
           0,
           0,
           0,
           0,
           0
          ],
          "target": [
           7,
           6,
           4,
           10,
           13,
           16,
           14,
           1,
           12,
           15,
           11,
           5,
           2,
           17,
           3,
           8,
           9
          ],
          "value": [
           83307379,
           114618290,
           81884622,
           8437700,
           3676496,
           23010004,
           553581,
           692640,
           402083151,
           9708316,
           293469511,
           5896393,
           11860051,
           112528537,
           260626238,
           844400,
           1276400
          ]
         },
         "node": {
          "color": "blue",
          "label": [
           2021,
           "Forskningsophold i udlandet » Efterår",
           "Forskningsprojekt 3 (tematisk forskning)",
           "Sapere Aude Forskningsleder",
           "DFF-Forskningsprojekt 3 (tematisk forskning)",
           "Forskningsprojekt 2 (tematisk forskning)",
           "DFF-Forskningsprojekt 2 (tematisk forskning)",
           "DFF-Forskningsprojekt 1 (tematisk forskning)",
           "Skolarstipendier » Efterår",
           "Skolarstipendier » Forår",
           "Delestillinger",
           "Forskningsprojekt 2",
           "Forskningsprojekt 1",
           "Eksplorativt Netværk",
           "Forskningsophold i udlandet",
           "Forskningsprojekt 1 (tematisk forskning)",
           "Forskeruddannelse uden for universiteterne",
           "Inge Lehmann",
           "Region Nordjylland",
           "Region Midtjylland",
           "Region Sjælland",
           "Region Syddanmark",
           "Region Hovedstaden",
           "Sundhed og Sygdom",
           "Tematisk » Grøn omstilling",
           "Samfund og Erhverv",
           "T-udvalg",
           "Teknologi og Produktion",
           "Kultur og Kommunikation",
           "Natur og Univers",
           "Tværrådslig"
          ],
          "line": {
           "color": "black",
           "width": 0.5
          },
          "pad": 15,
          "thickness": 20
         },
         "type": "sankey"
        }
       ],
       "layout": {
        "font": {
         "size": 10
        },
        "template": {
         "data": {
          "bar": [
           {
            "error_x": {
             "color": "#2a3f5f"
            },
            "error_y": {
             "color": "#2a3f5f"
            },
            "marker": {
             "line": {
              "color": "#E5ECF6",
              "width": 0.5
             },
             "pattern": {
              "fillmode": "overlay",
              "size": 10,
              "solidity": 0.2
             }
            },
            "type": "bar"
           }
          ],
          "barpolar": [
           {
            "marker": {
             "line": {
              "color": "#E5ECF6",
              "width": 0.5
             },
             "pattern": {
              "fillmode": "overlay",
              "size": 10,
              "solidity": 0.2
             }
            },
            "type": "barpolar"
           }
          ],
          "carpet": [
           {
            "aaxis": {
             "endlinecolor": "#2a3f5f",
             "gridcolor": "white",
             "linecolor": "white",
             "minorgridcolor": "white",
             "startlinecolor": "#2a3f5f"
            },
            "baxis": {
             "endlinecolor": "#2a3f5f",
             "gridcolor": "white",
             "linecolor": "white",
             "minorgridcolor": "white",
             "startlinecolor": "#2a3f5f"
            },
            "type": "carpet"
           }
          ],
          "choropleth": [
           {
            "colorbar": {
             "outlinewidth": 0,
             "ticks": ""
            },
            "type": "choropleth"
           }
          ],
          "contour": [
           {
            "colorbar": {
             "outlinewidth": 0,
             "ticks": ""
            },
            "colorscale": [
             [
              0,
              "#0d0887"
             ],
             [
              0.1111111111111111,
              "#46039f"
             ],
             [
              0.2222222222222222,
              "#7201a8"
             ],
             [
              0.3333333333333333,
              "#9c179e"
             ],
             [
              0.4444444444444444,
              "#bd3786"
             ],
             [
              0.5555555555555556,
              "#d8576b"
             ],
             [
              0.6666666666666666,
              "#ed7953"
             ],
             [
              0.7777777777777778,
              "#fb9f3a"
             ],
             [
              0.8888888888888888,
              "#fdca26"
             ],
             [
              1,
              "#f0f921"
             ]
            ],
            "type": "contour"
           }
          ],
          "contourcarpet": [
           {
            "colorbar": {
             "outlinewidth": 0,
             "ticks": ""
            },
            "type": "contourcarpet"
           }
          ],
          "heatmap": [
           {
            "colorbar": {
             "outlinewidth": 0,
             "ticks": ""
            },
            "colorscale": [
             [
              0,
              "#0d0887"
             ],
             [
              0.1111111111111111,
              "#46039f"
             ],
             [
              0.2222222222222222,
              "#7201a8"
             ],
             [
              0.3333333333333333,
              "#9c179e"
             ],
             [
              0.4444444444444444,
              "#bd3786"
             ],
             [
              0.5555555555555556,
              "#d8576b"
             ],
             [
              0.6666666666666666,
              "#ed7953"
             ],
             [
              0.7777777777777778,
              "#fb9f3a"
             ],
             [
              0.8888888888888888,
              "#fdca26"
             ],
             [
              1,
              "#f0f921"
             ]
            ],
            "type": "heatmap"
           }
          ],
          "heatmapgl": [
           {
            "colorbar": {
             "outlinewidth": 0,
             "ticks": ""
            },
            "colorscale": [
             [
              0,
              "#0d0887"
             ],
             [
              0.1111111111111111,
              "#46039f"
             ],
             [
              0.2222222222222222,
              "#7201a8"
             ],
             [
              0.3333333333333333,
              "#9c179e"
             ],
             [
              0.4444444444444444,
              "#bd3786"
             ],
             [
              0.5555555555555556,
              "#d8576b"
             ],
             [
              0.6666666666666666,
              "#ed7953"
             ],
             [
              0.7777777777777778,
              "#fb9f3a"
             ],
             [
              0.8888888888888888,
              "#fdca26"
             ],
             [
              1,
              "#f0f921"
             ]
            ],
            "type": "heatmapgl"
           }
          ],
          "histogram": [
           {
            "marker": {
             "pattern": {
              "fillmode": "overlay",
              "size": 10,
              "solidity": 0.2
             }
            },
            "type": "histogram"
           }
          ],
          "histogram2d": [
           {
            "colorbar": {
             "outlinewidth": 0,
             "ticks": ""
            },
            "colorscale": [
             [
              0,
              "#0d0887"
             ],
             [
              0.1111111111111111,
              "#46039f"
             ],
             [
              0.2222222222222222,
              "#7201a8"
             ],
             [
              0.3333333333333333,
              "#9c179e"
             ],
             [
              0.4444444444444444,
              "#bd3786"
             ],
             [
              0.5555555555555556,
              "#d8576b"
             ],
             [
              0.6666666666666666,
              "#ed7953"
             ],
             [
              0.7777777777777778,
              "#fb9f3a"
             ],
             [
              0.8888888888888888,
              "#fdca26"
             ],
             [
              1,
              "#f0f921"
             ]
            ],
            "type": "histogram2d"
           }
          ],
          "histogram2dcontour": [
           {
            "colorbar": {
             "outlinewidth": 0,
             "ticks": ""
            },
            "colorscale": [
             [
              0,
              "#0d0887"
             ],
             [
              0.1111111111111111,
              "#46039f"
             ],
             [
              0.2222222222222222,
              "#7201a8"
             ],
             [
              0.3333333333333333,
              "#9c179e"
             ],
             [
              0.4444444444444444,
              "#bd3786"
             ],
             [
              0.5555555555555556,
              "#d8576b"
             ],
             [
              0.6666666666666666,
              "#ed7953"
             ],
             [
              0.7777777777777778,
              "#fb9f3a"
             ],
             [
              0.8888888888888888,
              "#fdca26"
             ],
             [
              1,
              "#f0f921"
             ]
            ],
            "type": "histogram2dcontour"
           }
          ],
          "mesh3d": [
           {
            "colorbar": {
             "outlinewidth": 0,
             "ticks": ""
            },
            "type": "mesh3d"
           }
          ],
          "parcoords": [
           {
            "line": {
             "colorbar": {
              "outlinewidth": 0,
              "ticks": ""
             }
            },
            "type": "parcoords"
           }
          ],
          "pie": [
           {
            "automargin": true,
            "type": "pie"
           }
          ],
          "scatter": [
           {
            "fillpattern": {
             "fillmode": "overlay",
             "size": 10,
             "solidity": 0.2
            },
            "type": "scatter"
           }
          ],
          "scatter3d": [
           {
            "line": {
             "colorbar": {
              "outlinewidth": 0,
              "ticks": ""
             }
            },
            "marker": {
             "colorbar": {
              "outlinewidth": 0,
              "ticks": ""
             }
            },
            "type": "scatter3d"
           }
          ],
          "scattercarpet": [
           {
            "marker": {
             "colorbar": {
              "outlinewidth": 0,
              "ticks": ""
             }
            },
            "type": "scattercarpet"
           }
          ],
          "scattergeo": [
           {
            "marker": {
             "colorbar": {
              "outlinewidth": 0,
              "ticks": ""
             }
            },
            "type": "scattergeo"
           }
          ],
          "scattergl": [
           {
            "marker": {
             "colorbar": {
              "outlinewidth": 0,
              "ticks": ""
             }
            },
            "type": "scattergl"
           }
          ],
          "scattermapbox": [
           {
            "marker": {
             "colorbar": {
              "outlinewidth": 0,
              "ticks": ""
             }
            },
            "type": "scattermapbox"
           }
          ],
          "scatterpolar": [
           {
            "marker": {
             "colorbar": {
              "outlinewidth": 0,
              "ticks": ""
             }
            },
            "type": "scatterpolar"
           }
          ],
          "scatterpolargl": [
           {
            "marker": {
             "colorbar": {
              "outlinewidth": 0,
              "ticks": ""
             }
            },
            "type": "scatterpolargl"
           }
          ],
          "scatterternary": [
           {
            "marker": {
             "colorbar": {
              "outlinewidth": 0,
              "ticks": ""
             }
            },
            "type": "scatterternary"
           }
          ],
          "surface": [
           {
            "colorbar": {
             "outlinewidth": 0,
             "ticks": ""
            },
            "colorscale": [
             [
              0,
              "#0d0887"
             ],
             [
              0.1111111111111111,
              "#46039f"
             ],
             [
              0.2222222222222222,
              "#7201a8"
             ],
             [
              0.3333333333333333,
              "#9c179e"
             ],
             [
              0.4444444444444444,
              "#bd3786"
             ],
             [
              0.5555555555555556,
              "#d8576b"
             ],
             [
              0.6666666666666666,
              "#ed7953"
             ],
             [
              0.7777777777777778,
              "#fb9f3a"
             ],
             [
              0.8888888888888888,
              "#fdca26"
             ],
             [
              1,
              "#f0f921"
             ]
            ],
            "type": "surface"
           }
          ],
          "table": [
           {
            "cells": {
             "fill": {
              "color": "#EBF0F8"
             },
             "line": {
              "color": "white"
             }
            },
            "header": {
             "fill": {
              "color": "#C8D4E3"
             },
             "line": {
              "color": "white"
             }
            },
            "type": "table"
           }
          ]
         },
         "layout": {
          "annotationdefaults": {
           "arrowcolor": "#2a3f5f",
           "arrowhead": 0,
           "arrowwidth": 1
          },
          "autotypenumbers": "strict",
          "coloraxis": {
           "colorbar": {
            "outlinewidth": 0,
            "ticks": ""
           }
          },
          "colorscale": {
           "diverging": [
            [
             0,
             "#8e0152"
            ],
            [
             0.1,
             "#c51b7d"
            ],
            [
             0.2,
             "#de77ae"
            ],
            [
             0.3,
             "#f1b6da"
            ],
            [
             0.4,
             "#fde0ef"
            ],
            [
             0.5,
             "#f7f7f7"
            ],
            [
             0.6,
             "#e6f5d0"
            ],
            [
             0.7,
             "#b8e186"
            ],
            [
             0.8,
             "#7fbc41"
            ],
            [
             0.9,
             "#4d9221"
            ],
            [
             1,
             "#276419"
            ]
           ],
           "sequential": [
            [
             0,
             "#0d0887"
            ],
            [
             0.1111111111111111,
             "#46039f"
            ],
            [
             0.2222222222222222,
             "#7201a8"
            ],
            [
             0.3333333333333333,
             "#9c179e"
            ],
            [
             0.4444444444444444,
             "#bd3786"
            ],
            [
             0.5555555555555556,
             "#d8576b"
            ],
            [
             0.6666666666666666,
             "#ed7953"
            ],
            [
             0.7777777777777778,
             "#fb9f3a"
            ],
            [
             0.8888888888888888,
             "#fdca26"
            ],
            [
             1,
             "#f0f921"
            ]
           ],
           "sequentialminus": [
            [
             0,
             "#0d0887"
            ],
            [
             0.1111111111111111,
             "#46039f"
            ],
            [
             0.2222222222222222,
             "#7201a8"
            ],
            [
             0.3333333333333333,
             "#9c179e"
            ],
            [
             0.4444444444444444,
             "#bd3786"
            ],
            [
             0.5555555555555556,
             "#d8576b"
            ],
            [
             0.6666666666666666,
             "#ed7953"
            ],
            [
             0.7777777777777778,
             "#fb9f3a"
            ],
            [
             0.8888888888888888,
             "#fdca26"
            ],
            [
             1,
             "#f0f921"
            ]
           ]
          },
          "colorway": [
           "#636efa",
           "#EF553B",
           "#00cc96",
           "#ab63fa",
           "#FFA15A",
           "#19d3f3",
           "#FF6692",
           "#B6E880",
           "#FF97FF",
           "#FECB52"
          ],
          "font": {
           "color": "#2a3f5f"
          },
          "geo": {
           "bgcolor": "white",
           "lakecolor": "white",
           "landcolor": "#E5ECF6",
           "showlakes": true,
           "showland": true,
           "subunitcolor": "white"
          },
          "hoverlabel": {
           "align": "left"
          },
          "hovermode": "closest",
          "mapbox": {
           "style": "light"
          },
          "paper_bgcolor": "white",
          "plot_bgcolor": "#E5ECF6",
          "polar": {
           "angularaxis": {
            "gridcolor": "white",
            "linecolor": "white",
            "ticks": ""
           },
           "bgcolor": "#E5ECF6",
           "radialaxis": {
            "gridcolor": "white",
            "linecolor": "white",
            "ticks": ""
           }
          },
          "scene": {
           "xaxis": {
            "backgroundcolor": "#E5ECF6",
            "gridcolor": "white",
            "gridwidth": 2,
            "linecolor": "white",
            "showbackground": true,
            "ticks": "",
            "zerolinecolor": "white"
           },
           "yaxis": {
            "backgroundcolor": "#E5ECF6",
            "gridcolor": "white",
            "gridwidth": 2,
            "linecolor": "white",
            "showbackground": true,
            "ticks": "",
            "zerolinecolor": "white"
           },
           "zaxis": {
            "backgroundcolor": "#E5ECF6",
            "gridcolor": "white",
            "gridwidth": 2,
            "linecolor": "white",
            "showbackground": true,
            "ticks": "",
            "zerolinecolor": "white"
           }
          },
          "shapedefaults": {
           "line": {
            "color": "#2a3f5f"
           }
          },
          "ternary": {
           "aaxis": {
            "gridcolor": "white",
            "linecolor": "white",
            "ticks": ""
           },
           "baxis": {
            "gridcolor": "white",
            "linecolor": "white",
            "ticks": ""
           },
           "bgcolor": "#E5ECF6",
           "caxis": {
            "gridcolor": "white",
            "linecolor": "white",
            "ticks": ""
           }
          },
          "title": {
           "x": 0.05
          },
          "xaxis": {
           "automargin": true,
           "gridcolor": "white",
           "linecolor": "white",
           "ticks": "",
           "title": {
            "standoff": 15
           },
           "zerolinecolor": "white",
           "zerolinewidth": 2
          },
          "yaxis": {
           "automargin": true,
           "gridcolor": "white",
           "linecolor": "white",
           "ticks": "",
           "title": {
            "standoff": 15
           },
           "zerolinecolor": "white",
           "zerolinewidth": 2
          }
         }
        },
        "title": {
         "text": "Basic Sankey Diagram"
        }
       }
      }
     },
     "metadata": {},
     "output_type": "display_data"
    }
   ],
   "source": [
    "fig = go.Figure(data=[go.Sankey(\n",
    "    node = dict(\n",
    "      pad = 15,\n",
    "      thickness = 20,\n",
    "      line = dict(color = \"black\", width = 0.5),\n",
    "      label = labels,\n",
    "      color = \"blue\"\n",
    "    ),\n",
    "    link = dict(\n",
    "      source = df_link_input['sourceID'], # indices correspond to labels, eg A1, A2, A1, B1, ...\n",
    "      target = df_link_input['targetID'],\n",
    "      value = df_link_input['count']\n",
    "  ))])\n",
    "\n",
    "fig.update_layout(title_text=\"Basic Sankey Diagram\", font_size=10)\n",
    "fig.show()"
   ]
  },
  {
   "cell_type": "code",
   "execution_count": 158,
   "metadata": {},
   "outputs": [
    {
     "data": {
      "text/plain": [
       "'temp-plot.html'"
      ]
     },
     "execution_count": 158,
     "metadata": {},
     "output_type": "execute_result"
    }
   ],
   "source": [
    "def genSankey(df,cat_cols=[],value_cols='',title='Sankey Diagram'):\n",
    "    # maximum of 6 value cols -> 6 colors\n",
    "    colorPalette = ['#4B8BBE','#306998','#FFE873','#FFD43B','#646464']\n",
    "    labelList = []\n",
    "    colorNumList = []\n",
    "    for catCol in cat_cols:\n",
    "        labelListTemp =  list(set(df[catCol].values))\n",
    "        colorNumList.append(len(labelListTemp))\n",
    "        labelList = labelList + labelListTemp    \n",
    "\n",
    "    # remove duplicates from labelList\n",
    "    labelList = list(dict.fromkeys(labelList))\n",
    "    \n",
    "    # define colors based on number of levels\n",
    "    colorList = []\n",
    "    for idx, colorNum in enumerate(colorNumList):\n",
    "        colorList = colorList + [colorPalette[idx]]*colorNum\n",
    "        \n",
    "    # transform df into a source-target pair\n",
    "    for i in range(len(cat_cols)-1):\n",
    "        if i==0:\n",
    "            sourceTargetDf = df[[cat_cols[i],cat_cols[i+1],value_cols]]\n",
    "            sourceTargetDf.columns = ['source','target','count']\n",
    "        else:\n",
    "            tempDf = df[[cat_cols[i],cat_cols[i+1],value_cols]]\n",
    "            tempDf.columns = ['source','target','count']\n",
    "            sourceTargetDf = pd.concat([sourceTargetDf,tempDf])\n",
    "        sourceTargetDf = sourceTargetDf.groupby(['source','target']).agg({'count':'sum'}).reset_index()\n",
    "        \n",
    "    # add index for source-target pair\n",
    "    sourceTargetDf['sourceID'] = sourceTargetDf['source'].apply(lambda x: labelList.index(x))\n",
    "    sourceTargetDf['targetID'] = sourceTargetDf['target'].apply(lambda x: labelList.index(x))\n",
    "\n",
    "    # creating the sankey diagram\n",
    "    data = dict(\n",
    "        type='sankey',\n",
    "        node = dict(\n",
    "          pad = 15,\n",
    "          thickness = 20,\n",
    "          line = dict(\n",
    "            color = \"black\",\n",
    "            width = 0.5\n",
    "          ),\n",
    "          label = labelList,\n",
    "          color = colorList\n",
    "        ),\n",
    "        link = dict(\n",
    "          source = sourceTargetDf['sourceID'],\n",
    "          target = sourceTargetDf['targetID'],\n",
    "          value = sourceTargetDf['count']\n",
    "        )\n",
    "      )\n",
    "    \n",
    "    layout =  dict(\n",
    "        title = title,\n",
    "        font = dict(\n",
    "          size = 10\n",
    "        )\n",
    "    )\n",
    "       \n",
    "    fig = dict(data=[data], layout=layout)\n",
    "    return fig\n",
    "\n",
    "fig = genSankey(df_sankey,cat_cols=['År', 'Virkemidler', 'Område'], value_cols='Bevilliget beløb', title='Titel')\n",
    "plotly.offline.plot(fig, validate=False)"
   ]
  }
 ],
 "metadata": {
  "kernelspec": {
   "display_name": "Python 3.10.2 ('.venv': venv)",
   "language": "python",
   "name": "python3"
  },
  "language_info": {
   "codemirror_mode": {
    "name": "ipython",
    "version": 3
   },
   "file_extension": ".py",
   "mimetype": "text/x-python",
   "name": "python",
   "nbconvert_exporter": "python",
   "pygments_lexer": "ipython3",
   "version": "3.10.2"
  },
  "orig_nbformat": 4,
  "vscode": {
   "interpreter": {
    "hash": "d7f2178578220851d48b003747f7d31ffb8c0e18c599dc2a84d27e5dca698fac"
   }
  }
 },
 "nbformat": 4,
 "nbformat_minor": 2
}
